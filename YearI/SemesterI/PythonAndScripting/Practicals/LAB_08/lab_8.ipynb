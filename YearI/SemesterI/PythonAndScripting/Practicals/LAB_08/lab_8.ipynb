{
 "cells": [
  {
   "cell_type": "code",
   "execution_count": 19,
   "id": "f78ee4a6",
   "metadata": {},
   "outputs": [],
   "source": [
    "from datetime import datetime as dt\n",
    "d = str(dt.now()).split('.')[0]"
   ]
  },
  {
   "cell_type": "code",
   "execution_count": 20,
   "id": "9b4b8a70",
   "metadata": {},
   "outputs": [
    {
     "name": "stdout",
     "output_type": "stream",
     "text": [
      "Lab 8 SHUBHANG GUPTA 2022-11-16 14:25:48\n",
      "5\n"
     ]
    }
   ],
   "source": [
    "print(f\"Lab 8 SHUBHANG GUPTA {d}\")\n",
    "class MyClass:\n",
    "    \n",
    "  x = 5\n",
    "\n",
    "p1 = MyClass()\n",
    "\n",
    "print(p1.x)"
   ]
  },
  {
   "cell_type": "code",
   "execution_count": 21,
   "id": "0dc5f3d2",
   "metadata": {},
   "outputs": [
    {
     "name": "stdout",
     "output_type": "stream",
     "text": [
      "Lab 8 SHUBHANG GUPTA 2022-11-16 14:25:48\n",
      "John\n",
      "36\n"
     ]
    }
   ],
   "source": [
    "print(f\"Lab 8 SHUBHANG GUPTA {d}\")\n",
    "class Person:\n",
    "    \n",
    "  def __init__(self, name, age):\n",
    "    self.name = name\n",
    "    self.age = age\n",
    "    \n",
    "p1 = Person(\"John\", 36)\n",
    "\n",
    "print(p1.name)\n",
    "print(p1.age)"
   ]
  },
  {
   "cell_type": "code",
   "execution_count": 22,
   "id": "aa3bc876",
   "metadata": {},
   "outputs": [
    {
     "name": "stdout",
     "output_type": "stream",
     "text": [
      "Lab 8 SHUBHANG GUPTA 2022-11-16 14:25:48\n",
      "John(36)\n"
     ]
    }
   ],
   "source": [
    "print(f\"Lab 8 SHUBHANG GUPTA {d}\")\n",
    "class Person:\n",
    "    \n",
    "  def __init__(self, name, age):\n",
    "    self.name = name\n",
    "    self.age = age\n",
    "    \n",
    "  def __str__(self):\n",
    "    return f\"{self.name}({self.age})\"    \n",
    "\n",
    "p1 = Person(\"John\", 36)\n",
    "\n",
    "print(p1)"
   ]
  },
  {
   "cell_type": "code",
   "execution_count": 23,
   "id": "43b1c0c6",
   "metadata": {},
   "outputs": [
    {
     "name": "stdout",
     "output_type": "stream",
     "text": [
      "Lab 8 SHUBHANG GUPTA 2022-11-16 14:25:48\n",
      "Rodger is a mammal\n",
      "Tommy is also a mammal\n",
      "My name is Rodgerig\n",
      "My name is Tommyln\n"
     ]
    }
   ],
   "source": [
    "print(f\"Lab 8 SHUBHANG GUPTA {d}\")\n",
    "class Dog:\n",
    "    \n",
    "    attr1 = \"mammal\"\n",
    "    \n",
    "    def __init__(self, name):\n",
    "        self.name = name\n",
    "        \n",
    "Rodger = Dog(\"Rodgerig\")\n",
    "Tommy = Dog(\"Tommyln\")\n",
    "\n",
    "print(\"Rodger is a {}\".format(Rodger.__class__.attr1))\n",
    "print(\"Tommy is also a {}\".format(Tommy.__class__.attr1))\n",
    "print(\"My name is {}\".format(Rodger.name))\n",
    "print(\"My name is {}\".format(Tommy.name))"
   ]
  },
  {
   "cell_type": "code",
   "execution_count": 24,
   "id": "6f74898d",
   "metadata": {},
   "outputs": [
    {
     "name": "stdout",
     "output_type": "stream",
     "text": [
      "Lab 8 SHUBHANG GUPTA 2022-11-16 14:25:48\n",
      "My name is Rodgerig\n",
      "My name is Tommyy\n"
     ]
    }
   ],
   "source": [
    "print(f\"Lab 8 SHUBHANG GUPTA {d}\")\n",
    "class Dog:\n",
    "    \n",
    "    attr1=\"mammal\"\n",
    "    \n",
    "    def __init__(self, name):\n",
    "       self.name = name\n",
    "    \n",
    "    def speak(self):\n",
    "       print(\"My name is {}\".format(self.name))\n",
    "    \n",
    "Rodger = Dog(\"Rodgerig\")\n",
    "Tommy = Dog(\"Tommyy\")\n",
    "\n",
    "Rodger.speak()\n",
    "Tommy.speak()"
   ]
  },
  {
   "cell_type": "code",
   "execution_count": 25,
   "id": "db08cf61",
   "metadata": {},
   "outputs": [
    {
     "name": "stdout",
     "output_type": "stream",
     "text": [
      "Lab 8 SHUBHANG GUPTA 2022-11-16 14:25:48\n",
      "Rahul\n",
      "886012\n",
      "My name is Rahul\n",
      "Id Number rr: 886012\n",
      "Post: Intern\n"
     ]
    }
   ],
   "source": [
    "print(f\"Lab 8 SHUBHANG GUPTA {d}\")\n",
    "class Person(object):\n",
    "    \n",
    "    def __init__(self, name, idnumber):\n",
    "        self.name = name\n",
    "        self.idnumber = idnumber\n",
    "        \n",
    "    def display(self):\n",
    "        print(self.name)\n",
    "        print(self.idnumber)\n",
    "        \n",
    "    def details(self):\n",
    "        print(\"My name is {}\".format(self.name))\n",
    "        print(\"IdNumber: {}\".format(self.idnumber))\n",
    "        \n",
    "class Employee(Person): \n",
    "    \n",
    "    def __init__(self, name, idnumber, salary, post):\n",
    "        self.salary = salary\n",
    "        self.post = post\n",
    "        Person.__init__(self, name, idnumber) \n",
    "        \n",
    "    def details(self):\n",
    "        print(\"My name is {}\".format(self.name))\n",
    "        print(\"Id Number rr: {}\".format(self.idnumber)) \n",
    "        print(\"Post: {}\".format(self.post))\n",
    "        \n",
    "a = Employee(\"Rahul\", 886012, 200000, \"Intern\")\n",
    "\n",
    "a.display()\n",
    "a.details()"
   ]
  },
  {
   "cell_type": "code",
   "execution_count": 26,
   "id": "70dea980",
   "metadata": {},
   "outputs": [
    {
     "name": "stdout",
     "output_type": "stream",
     "text": [
      "Lab 8 SHUBHANG GUPTA 2022-11-16 14:25:48\n",
      "There are many types of birds.\n",
      "Most of the birds can fly but some cannot.\n",
      "There are many types of birds.\n",
      "Sparrow can fly.\n",
      "There are many types of birds.\n",
      "Ostrich cannot fly.\n"
     ]
    }
   ],
   "source": [
    "print(f\"Lab 8 SHUBHANG GUPTA {d}\")\n",
    "class Bird:\n",
    "    \n",
    "    def intro(self):\n",
    "        print(\"There are many types of birds.\")\n",
    "        \n",
    "    def flight(self):\n",
    "        print(\"Most of the birds can fly but some cannot.\")\n",
    "        \n",
    "class sparrow(Bird):\n",
    "    \n",
    "    def flight(self):\n",
    "        print(\"Sparrow can fly.\")\n",
    "        \n",
    "class ostrich(Bird):\n",
    "    \n",
    "    def flight(self):\n",
    "        print(\"Ostrich cannot fly.\")\n",
    "        \n",
    "obj_bird = Bird()\n",
    "obj_spr = sparrow()\n",
    "obj_ost = ostrich()\n",
    "\n",
    "obj_bird.intro()\n",
    "obj_bird.flight()\n",
    "\n",
    "obj_spr.intro()\n",
    "obj_spr.flight()\n",
    "\n",
    "obj_ost.intro()\n",
    "obj_ost.flight()"
   ]
  },
  {
   "cell_type": "code",
   "execution_count": 27,
   "id": "5dbee649",
   "metadata": {},
   "outputs": [
    {
     "name": "stdout",
     "output_type": "stream",
     "text": [
      "Lab 8 SHUBHANG GUPTA 2022-11-16 14:25:48\n",
      "MscDFIS\n",
      "MscDFIS\n"
     ]
    }
   ],
   "source": [
    "print(f\"Lab 8 SHUBHANG GUPTA {d}\")\n",
    "class base:\n",
    "    \n",
    "    def __init__(self):\n",
    "        self.a=\"MscDFIS\"\n",
    "        self.__c=\"MscDFIS\"\n",
    "        print(self.__c)\n",
    "        \n",
    "class derived(base):\n",
    "    \n",
    "    def __init__(self):\n",
    "        print(\"Calling the private member of base class.\")\n",
    "        print(self.__c)\n",
    "        \n",
    "obj1 = base()\n",
    "\n",
    "print(obj1.a)"
   ]
  },
  {
   "cell_type": "code",
   "execution_count": 28,
   "id": "bae3d032",
   "metadata": {},
   "outputs": [
    {
     "name": "stdout",
     "output_type": "stream",
     "text": [
      "Lab 8 SHUBHANG GUPTA 2022-11-16 14:25:48\n",
      "2\n",
      "7\n",
      "7\n"
     ]
    }
   ],
   "source": [
    "print(f\"Lab 8 SHUBHANG GUPTA {d}\")\n",
    "class MyClass:\n",
    "    \n",
    "    __hiddenVariable = 0\n",
    "    \n",
    "    def add(self,increment):\n",
    "        self.__hiddenVariable += increment\n",
    "        print(self.__hiddenVariable)\n",
    "        \n",
    "myObject = MyClass()\n",
    "\n",
    "myObject.add(2)\n",
    "myObject.add(5)\n",
    "\n",
    "print(myObject._MyClass__hiddenVariable)"
   ]
  },
  {
   "cell_type": "code",
   "execution_count": null,
   "id": "eefd9bf6",
   "metadata": {},
   "outputs": [],
   "source": []
  }
 ],
 "metadata": {
  "kernelspec": {
   "display_name": "Python 3 (ipykernel)",
   "language": "python",
   "name": "python3"
  },
  "language_info": {
   "codemirror_mode": {
    "name": "ipython",
    "version": 3
   },
   "file_extension": ".py",
   "mimetype": "text/x-python",
   "name": "python",
   "nbconvert_exporter": "python",
   "pygments_lexer": "ipython3",
   "version": "3.8.10"
  }
 },
 "nbformat": 4,
 "nbformat_minor": 5
}

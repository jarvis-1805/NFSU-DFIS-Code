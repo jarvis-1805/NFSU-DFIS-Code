{
 "cells": [
  {
   "cell_type": "code",
   "execution_count": 2,
   "id": "ac67ce99",
   "metadata": {},
   "outputs": [
    {
     "name": "stdout",
     "output_type": "stream",
     "text": [
      "LAB 10 Shubhang Gupta 2022-12-09 18:14:44.823386\n",
      "Enter number of students: 3\n",
      "Enter name of a student : Ram\n",
      "Enter name of a student : Shyam\n",
      "Enter name of a student : Radhe\n",
      "These 3 students are allowed to give end sem.\n",
      "Radhe\n",
      "Ram\n",
      "Shyam\n"
     ]
    }
   ],
   "source": [
    "from datetime import datetime\n",
    "current_time = datetime.now()\n",
    "\n",
    "print(\"LAB 10 Shubhang Gupta \" + str(current_time))\n",
    "\n",
    "blacklist = ['name1', 'name2', 'name3']\n",
    "nostudent = int(input('Enter number of students: '))\n",
    "studentlist = []\n",
    "whitelist = []\n",
    "\n",
    "for student in range(nostudent):\n",
    "    prompt = input('Enter name of a student : ')\n",
    "    while (prompt == \"\"):\n",
    "        prompt = input('Enter a non-empty name of a student: ')\n",
    "    studentlist.append(prompt)\n",
    "\n",
    "for student in studentlist:\n",
    "      if student not in blacklist:\n",
    "            whitelist.append(student)\n",
    "\n",
    "print('These ' + str(len(whitelist)) + ' students are allowed to give end sem.')\n",
    "print(*sorted(whitelist), sep = \"\\n\")\n"
   ]
  },
  {
   "cell_type": "code",
   "execution_count": 3,
   "id": "7d52c041",
   "metadata": {},
   "outputs": [
    {
     "name": "stdout",
     "output_type": "stream",
     "text": [
      "LAB 10 Shubhang Gupta 2022-12-09 18:15:25.406289\n"
     ]
    }
   ],
   "source": [
    "from datetime import datetime\n",
    "import cv2\n",
    "\n",
    "\n",
    "current_time = datetime.now()\n",
    "print(\"LAB 10 Shubhang Gupta \" + str(current_time))\n",
    "\n",
    "path = r\"foster-lake.jpg\"\n",
    "img_rgb = cv2.imread(path, 1)\n",
    "cv2.imshow(\"DICE\", img_rgb)\n",
    "cv2.waitKey(0)\n",
    "cv2.destroyAllWindows()\n"
   ]
  },
  {
   "cell_type": "code",
   "execution_count": 4,
   "id": "ed467dea",
   "metadata": {},
   "outputs": [
    {
     "name": "stdout",
     "output_type": "stream",
     "text": [
      "LAB 10 Shubhang Gupta 2022-12-09 18:16:33.059799\n",
      "GPSInfo : 978\n",
      "ResolutionUnit : 2\n",
      "ExifOffset : 214\n",
      "Make : Canon\n",
      "Model : Canon EOS 40D\n",
      "Software : GIMP 2.4.5\n",
      "Orientation : 1\n",
      "DateTime : 2008:07:31 10:38:11\n",
      "YCbCrPositioning : 2\n",
      "XResolution : 72.0\n",
      "YResolution : 72.0\n"
     ]
    }
   ],
   "source": [
    "from PIL.ExifTags import TAGS\n",
    "from PIL import Image\n",
    "from datetime import datetime\n",
    "\n",
    "current_time = datetime.now()\n",
    "print(\"LAB 10 Shubhang Gupta \" + str(current_time))\n",
    "\n",
    "file = 'Canon_40D.jpg'\n",
    "image = Image.open(file)\n",
    "image.show()\n",
    "\n",
    "exif_table={}\n",
    "for k, v in image.getexif().items():\n",
    "    tag=TAGS.get(k)\n",
    "    exif_table[tag]=v\n",
    "\n",
    "for key, value in exif_table.items(): print(f'{key} : {value}')\n",
    "\n"
   ]
  },
  {
   "cell_type": "code",
   "execution_count": null,
   "id": "efe4a810",
   "metadata": {},
   "outputs": [],
   "source": []
  }
 ],
 "metadata": {
  "kernelspec": {
   "display_name": "Python 3 (ipykernel)",
   "language": "python",
   "name": "python3"
  },
  "language_info": {
   "codemirror_mode": {
    "name": "ipython",
    "version": 3
   },
   "file_extension": ".py",
   "mimetype": "text/x-python",
   "name": "python",
   "nbconvert_exporter": "python",
   "pygments_lexer": "ipython3",
   "version": "3.8.10 (tags/v3.8.10:3d8993a, May  3 2021, 11:48:03) [MSC v.1928 64 bit (AMD64)]"
  },
  "vscode": {
   "interpreter": {
    "hash": "290a1579c21c8053f5d0adc532ed67c024ae0181cc5426fb574bfa95c9a853de"
   }
  }
 },
 "nbformat": 4,
 "nbformat_minor": 5
}

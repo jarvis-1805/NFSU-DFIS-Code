{
 "cells": [
  {
   "cell_type": "markdown",
   "id": "556f9362",
   "metadata": {},
   "source": [
    "# 1. BASIC VARIABLES"
   ]
  },
  {
   "cell_type": "markdown",
   "id": "5e74ccfb",
   "metadata": {},
   "source": [
    "### a. Program 1"
   ]
  },
  {
   "cell_type": "code",
   "execution_count": 1,
   "id": "213013c5",
   "metadata": {
    "scrolled": true
   },
   "outputs": [],
   "source": [
    "name='Punet'\n",
    "x=27\n",
    "y=2.600\n",
    "ruIndian=True"
   ]
  },
  {
   "cell_type": "code",
   "execution_count": 2,
   "id": "f99170c0",
   "metadata": {},
   "outputs": [
    {
     "name": "stdout",
     "output_type": "stream",
     "text": [
      "27 2.6 True\n"
     ]
    }
   ],
   "source": [
    "print(x,y,ruIndian)"
   ]
  },
  {
   "cell_type": "code",
   "execution_count": 3,
   "id": "d5aa38c5",
   "metadata": {},
   "outputs": [
    {
     "data": {
      "text/plain": [
       "'PUNET'"
      ]
     },
     "execution_count": 3,
     "metadata": {},
     "output_type": "execute_result"
    }
   ],
   "source": [
    "name.upper()"
   ]
  },
  {
   "cell_type": "markdown",
   "id": "4a168923",
   "metadata": {},
   "source": [
    "### b. Program 2"
   ]
  },
  {
   "cell_type": "code",
   "execution_count": 4,
   "id": "e0c2b0d5",
   "metadata": {
    "scrolled": true
   },
   "outputs": [],
   "source": [
    "name=\"Punet\",\"sony\",\"net\"\n",
    "slic=\"python is a interpreted programming language\"\n",
    "desc=\"\"\"python is a interpreted programming language, it is very easy language for develpoment\"\"\""
   ]
  },
  {
   "cell_type": "code",
   "execution_count": 5,
   "id": "25078d3c",
   "metadata": {},
   "outputs": [
    {
     "data": {
      "text/plain": [
       "'net'"
      ]
     },
     "execution_count": 5,
     "metadata": {},
     "output_type": "execute_result"
    }
   ],
   "source": [
    "name[2]"
   ]
  },
  {
   "cell_type": "code",
   "execution_count": 6,
   "id": "16d0ed42",
   "metadata": {},
   "outputs": [
    {
     "data": {
      "text/plain": [
       "'pyth'"
      ]
     },
     "execution_count": 6,
     "metadata": {},
     "output_type": "execute_result"
    }
   ],
   "source": [
    "slic[0:4]"
   ]
  },
  {
   "cell_type": "code",
   "execution_count": 7,
   "id": "d4813bcc",
   "metadata": {},
   "outputs": [
    {
     "data": {
      "text/plain": [
       "'sony'"
      ]
     },
     "execution_count": 7,
     "metadata": {},
     "output_type": "execute_result"
    }
   ],
   "source": [
    "name[1]"
   ]
  },
  {
   "cell_type": "code",
   "execution_count": 8,
   "id": "92ef5eab",
   "metadata": {},
   "outputs": [
    {
     "data": {
      "text/plain": [
       "('Punet', 'sony', 'net')"
      ]
     },
     "execution_count": 8,
     "metadata": {},
     "output_type": "execute_result"
    }
   ],
   "source": [
    "name[0:5]"
   ]
  },
  {
   "cell_type": "code",
   "execution_count": 9,
   "id": "78830c78",
   "metadata": {},
   "outputs": [
    {
     "data": {
      "text/plain": [
       "('Punet', 'sony', 'net')"
      ]
     },
     "execution_count": 9,
     "metadata": {},
     "output_type": "execute_result"
    }
   ],
   "source": [
    "name[:10]"
   ]
  },
  {
   "cell_type": "code",
   "execution_count": 10,
   "id": "76ec8e28",
   "metadata": {},
   "outputs": [
    {
     "data": {
      "text/plain": [
       "('Punet', 'sony', 'net')"
      ]
     },
     "execution_count": 10,
     "metadata": {},
     "output_type": "execute_result"
    }
   ],
   "source": [
    "name[:]"
   ]
  },
  {
   "cell_type": "code",
   "execution_count": 11,
   "id": "8308a112",
   "metadata": {},
   "outputs": [
    {
     "data": {
      "text/plain": [
       "('Punet', 'net')"
      ]
     },
     "execution_count": 11,
     "metadata": {},
     "output_type": "execute_result"
    }
   ],
   "source": [
    "name[0:10:2]"
   ]
  },
  {
   "cell_type": "code",
   "execution_count": 12,
   "id": "f0b11a75",
   "metadata": {},
   "outputs": [
    {
     "data": {
      "text/plain": [
       "('net', 'sony', 'Punet')"
      ]
     },
     "execution_count": 12,
     "metadata": {},
     "output_type": "execute_result"
    }
   ],
   "source": [
    "name[::-1]"
   ]
  },
  {
   "cell_type": "code",
   "execution_count": 13,
   "id": "796f2c91",
   "metadata": {},
   "outputs": [
    {
     "data": {
      "text/plain": [
       "()"
      ]
     },
     "execution_count": 13,
     "metadata": {},
     "output_type": "execute_result"
    }
   ],
   "source": [
    "name[-5:-11]"
   ]
  },
  {
   "cell_type": "markdown",
   "id": "5d9efb7d",
   "metadata": {},
   "source": [
    "### c. Program 3"
   ]
  },
  {
   "cell_type": "code",
   "execution_count": 14,
   "id": "90d79d97",
   "metadata": {},
   "outputs": [],
   "source": [
    "name1=\"Punet\",\" sony\",\"net\"\n",
    "name=\"python is a interpreted programming language\" "
   ]
  },
  {
   "cell_type": "code",
   "execution_count": 15,
   "id": "c77ee26e",
   "metadata": {},
   "outputs": [
    {
     "data": {
      "text/plain": [
       "['python ', ' a interpreted programming language']"
      ]
     },
     "execution_count": 15,
     "metadata": {},
     "output_type": "execute_result"
    }
   ],
   "source": [
    "name.split(\"is\")"
   ]
  },
  {
   "cell_type": "code",
   "execution_count": 16,
   "id": "8da4c81e",
   "metadata": {},
   "outputs": [
    {
     "data": {
      "text/plain": [
       "4"
      ]
     },
     "execution_count": 16,
     "metadata": {},
     "output_type": "execute_result"
    }
   ],
   "source": [
    "name.count('n')"
   ]
  },
  {
   "cell_type": "code",
   "execution_count": 17,
   "id": "b355f294",
   "metadata": {},
   "outputs": [
    {
     "data": {
      "text/plain": [
       "7"
      ]
     },
     "execution_count": 17,
     "metadata": {},
     "output_type": "execute_result"
    }
   ],
   "source": [
    "name.find('i')"
   ]
  },
  {
   "cell_type": "code",
   "execution_count": 18,
   "id": "87c359c7",
   "metadata": {},
   "outputs": [
    {
     "data": {
      "text/plain": [
       "7"
      ]
     },
     "execution_count": 18,
     "metadata": {},
     "output_type": "execute_result"
    }
   ],
   "source": [
    "name.index(\"i\")"
   ]
  },
  {
   "cell_type": "code",
   "execution_count": 19,
   "id": "2cbf550c",
   "metadata": {},
   "outputs": [
    {
     "data": {
      "text/plain": [
       "False"
      ]
     },
     "execution_count": 19,
     "metadata": {},
     "output_type": "execute_result"
    }
   ],
   "source": [
    "name.isalpha()"
   ]
  },
  {
   "cell_type": "code",
   "execution_count": 20,
   "id": "45f123ad",
   "metadata": {},
   "outputs": [
    {
     "data": {
      "text/plain": [
       "False"
      ]
     },
     "execution_count": 20,
     "metadata": {},
     "output_type": "execute_result"
    }
   ],
   "source": [
    "name.isdecimal()"
   ]
  },
  {
   "cell_type": "code",
   "execution_count": 21,
   "id": "219ed11b",
   "metadata": {},
   "outputs": [
    {
     "data": {
      "text/plain": [
       "True"
      ]
     },
     "execution_count": 21,
     "metadata": {},
     "output_type": "execute_result"
    }
   ],
   "source": [
    "name.islower()"
   ]
  },
  {
   "cell_type": "code",
   "execution_count": 22,
   "id": "508cceaa",
   "metadata": {},
   "outputs": [
    {
     "data": {
      "text/plain": [
       "'PYTHON IS A INTERPRETED PROGRAMMING LANGUAGE'"
      ]
     },
     "execution_count": 22,
     "metadata": {},
     "output_type": "execute_result"
    }
   ],
   "source": [
    "name.upper()"
   ]
  },
  {
   "cell_type": "code",
   "execution_count": 23,
   "id": "8901f727",
   "metadata": {},
   "outputs": [
    {
     "data": {
      "text/plain": [
       "'pythot is a itterpreted programmitg latguage'"
      ]
     },
     "execution_count": 23,
     "metadata": {},
     "output_type": "execute_result"
    }
   ],
   "source": [
    "name.replace('n','t')"
   ]
  },
  {
   "cell_type": "code",
   "execution_count": 24,
   "id": "559be08c",
   "metadata": {},
   "outputs": [
    {
     "data": {
      "text/plain": [
       "'python is a interpreted programming language'"
      ]
     },
     "execution_count": 24,
     "metadata": {},
     "output_type": "execute_result"
    }
   ],
   "source": [
    "name.strip()"
   ]
  },
  {
   "cell_type": "code",
   "execution_count": 25,
   "id": "24113356",
   "metadata": {},
   "outputs": [
    {
     "data": {
      "text/plain": [
       "['python ', 's a ', 'nterpreted programm', 'ng language']"
      ]
     },
     "execution_count": 25,
     "metadata": {},
     "output_type": "execute_result"
    }
   ],
   "source": [
    "name.split('i')"
   ]
  },
  {
   "cell_type": "markdown",
   "id": "6ca801f9",
   "metadata": {},
   "source": [
    "### d. Program 4"
   ]
  },
  {
   "cell_type": "code",
   "execution_count": 26,
   "id": "1e06ffff",
   "metadata": {},
   "outputs": [],
   "source": [
    "n=60.5\n",
    "type(n)\n",
    "intgr=int(n)"
   ]
  },
  {
   "cell_type": "code",
   "execution_count": 27,
   "id": "244f60c0",
   "metadata": {},
   "outputs": [
    {
     "name": "stdout",
     "output_type": "stream",
     "text": [
      "60\n"
     ]
    }
   ],
   "source": [
    "print(intgr)"
   ]
  },
  {
   "cell_type": "code",
   "execution_count": 28,
   "id": "cc9bea11",
   "metadata": {},
   "outputs": [
    {
     "data": {
      "text/plain": [
       "3.8"
      ]
     },
     "execution_count": 28,
     "metadata": {},
     "output_type": "execute_result"
    }
   ],
   "source": [
    "round(3.75,1)"
   ]
  },
  {
   "cell_type": "markdown",
   "id": "4653660a",
   "metadata": {},
   "source": [
    "# 2. LISTS"
   ]
  },
  {
   "cell_type": "code",
   "execution_count": null,
   "id": "92400bff",
   "metadata": {},
   "outputs": [
    {
     "data": {
      "text/plain": [
       "'egg'"
      ]
     },
     "execution_count": 29,
     "metadata": {},
     "output_type": "execute_result"
    }
   ],
   "source": [
    "listmarkt=['egg','potato','pen','S','book','70.8']\n",
    "listmarkt[0]"
   ]
  },
  {
   "cell_type": "code",
   "execution_count": 30,
   "id": "d4871912",
   "metadata": {},
   "outputs": [],
   "source": [
    "listmarkt.append('hardware')\n",
    "listmarkt"
   ]
  },
  {
   "cell_type": "code",
   "execution_count": 31,
   "id": "b770e233",
   "metadata": {},
   "outputs": [],
   "source": [
    "listmarkt.insert(0,'goods')"
   ]
  },
  {
   "cell_type": "code",
   "execution_count": 32,
   "id": "01cbdcb2",
   "metadata": {},
   "outputs": [],
   "source": [
    "item=['hardware', 'software']\n",
    "listmarkt.extend(item)"
   ]
  },
  {
   "cell_type": "code",
   "execution_count": 33,
   "id": "526b2035",
   "metadata": {},
   "outputs": [],
   "source": [
    "listmarkt.remove('goods')"
   ]
  },
  {
   "cell_type": "code",
   "execution_count": 34,
   "id": "e442ad60",
   "metadata": {},
   "outputs": [
    {
     "data": {
      "text/plain": [
       "'software'"
      ]
     },
     "execution_count": 34,
     "metadata": {},
     "output_type": "execute_result"
    }
   ],
   "source": [
    "listmarkt.pop()"
   ]
  },
  {
   "cell_type": "code",
   "execution_count": 35,
   "id": "24532643",
   "metadata": {},
   "outputs": [
    {
     "data": {
      "text/plain": [
       "['70.8', 'S', 'book', 'egg', 'hardware', 'hardware', 'pen', 'potato']"
      ]
     },
     "execution_count": 35,
     "metadata": {},
     "output_type": "execute_result"
    }
   ],
   "source": [
    "newlist=sorted(listmarkt)\n",
    "newlist"
   ]
  },
  {
   "cell_type": "markdown",
   "id": "21a0d609",
   "metadata": {},
   "source": [
    "# 3. TUPLES"
   ]
  },
  {
   "cell_type": "code",
   "execution_count": 36,
   "id": "a19f3366",
   "metadata": {},
   "outputs": [
    {
     "name": "stdout",
     "output_type": "stream",
     "text": [
      "('egg', 'potato', 'pen', '5', 'book', '70.8')\n",
      "('egg', 'potato', 'pen', '5', 'book', '70.8')\n"
     ]
    }
   ],
   "source": [
    "tuple1=('egg','potato', 'pen','5', 'book', '70.8')\n",
    "tuple2=tuple1\n",
    "print(tuple1)\n",
    "print(tuple2)"
   ]
  },
  {
   "cell_type": "markdown",
   "id": "a0e5b2be",
   "metadata": {},
   "source": [
    "# 4. DICTIONARY"
   ]
  },
  {
   "cell_type": "code",
   "execution_count": 37,
   "id": "5fca4d79",
   "metadata": {},
   "outputs": [
    {
     "name": "stdout",
     "output_type": "stream",
     "text": [
      "{'Patel': 'Veg', 'iver': 'non-veg ', 'jin ': 'eggtarian', 'ima': {'B': 'maggie', 'L': 'veg '}}\n"
     ]
    }
   ],
   "source": [
    "dict={\"Patel\":\"Veg\",\"iver\":\"non-veg \",\"jin \":\"eggtarian\",\"ima\":{\"B\":\"maggie\",\"L\":\"veg \"}}\n",
    "print(dict)"
   ]
  },
  {
   "cell_type": "code",
   "execution_count": 38,
   "id": "6e5be14d",
   "metadata": {},
   "outputs": [
    {
     "name": "stdout",
     "output_type": "stream",
     "text": [
      "Veg\n"
     ]
    }
   ],
   "source": [
    "print(dict['Patel'])"
   ]
  },
  {
   "cell_type": "code",
   "execution_count": 39,
   "id": "941dcc6f",
   "metadata": {},
   "outputs": [
    {
     "name": "stdout",
     "output_type": "stream",
     "text": [
      "maggie\n"
     ]
    }
   ],
   "source": [
    "print(dict['ima']['B'])"
   ]
  },
  {
   "cell_type": "code",
   "execution_count": 40,
   "id": "1b5fa834",
   "metadata": {},
   "outputs": [
    {
     "name": "stdout",
     "output_type": "stream",
     "text": [
      "{'Patel': 'Veg', 'iver': 'non-veg ', 'jin ': 'eggtarian', 'ima': {'B': 'maggie', 'L': 'veg '}, 'Ana': 'imi'}\n"
     ]
    }
   ],
   "source": [
    "dict['Ana']='imi'\n",
    "print(dict)"
   ]
  },
  {
   "cell_type": "code",
   "execution_count": 41,
   "id": "3a9d1700",
   "metadata": {},
   "outputs": [
    {
     "name": "stdout",
     "output_type": "stream",
     "text": [
      "{'Patel': 'Veg', 'iver': 'non-veg ', 'jin ': 'eggtarian', 'ima': {'B': 'maggie', 'L': 'veg '}}\n"
     ]
    }
   ],
   "source": [
    "del dict['Ana']\n",
    "print(dict)"
   ]
  },
  {
   "cell_type": "code",
   "execution_count": 42,
   "id": "47798583",
   "metadata": {},
   "outputs": [
    {
     "name": "stdout",
     "output_type": "stream",
     "text": [
      "{'Patel': 'vegi', 'iver': 'non-veg ', 'jin ': 'eggtarian', 'ima': {'B': 'maggie', 'L': 'veg '}}\n"
     ]
    }
   ],
   "source": [
    "dict['Patel']='vegi'\n",
    "print(dict)"
   ]
  },
  {
   "cell_type": "code",
   "execution_count": 43,
   "id": "5d313ba7",
   "metadata": {},
   "outputs": [
    {
     "data": {
      "text/plain": [
       "dict_keys(['Patel', 'iver', 'jin ', 'ima'])"
      ]
     },
     "execution_count": 43,
     "metadata": {},
     "output_type": "execute_result"
    }
   ],
   "source": [
    "dict.keys()"
   ]
  },
  {
   "cell_type": "code",
   "execution_count": 44,
   "id": "f97be10c",
   "metadata": {},
   "outputs": [
    {
     "data": {
      "text/plain": [
       "dict_items([('Patel', 'vegi'), ('iver', 'non-veg '), ('jin ', 'eggtarian'), ('ima', {'B': 'maggie', 'L': 'veg '})])"
      ]
     },
     "execution_count": 44,
     "metadata": {},
     "output_type": "execute_result"
    }
   ],
   "source": [
    "dict.items()"
   ]
  },
  {
   "cell_type": "code",
   "execution_count": 45,
   "id": "2a54ad05",
   "metadata": {},
   "outputs": [
    {
     "name": "stdout",
     "output_type": "stream",
     "text": [
      "{'Patel': 'vegi', 'iver': 'non-veg ', 'jin ': 'eggtarian', 'ima': {'B': 'maggie', 'L': 'veg '}}\n"
     ]
    }
   ],
   "source": [
    "dict1=dict.copy()\n",
    "print(dict1)"
   ]
  },
  {
   "cell_type": "markdown",
   "id": "434dc9b4",
   "metadata": {},
   "source": [
    "# 5. SETS"
   ]
  },
  {
   "cell_type": "code",
   "execution_count": 46,
   "id": "744c108d",
   "metadata": {},
   "outputs": [
    {
     "data": {
      "text/plain": [
       "set"
      ]
     },
     "execution_count": 46,
     "metadata": {},
     "output_type": "execute_result"
    }
   ],
   "source": [
    "s=set()\n",
    "type(s) "
   ]
  },
  {
   "cell_type": "code",
   "execution_count": 47,
   "id": "ef8d9377",
   "metadata": {},
   "outputs": [
    {
     "name": "stdout",
     "output_type": "stream",
     "text": [
      "{1, 2, 4, 5}\n"
     ]
    }
   ],
   "source": [
    "L=[1,2,4,5,5]\n",
    "s1=set(L)\n",
    "print(s1)"
   ]
  },
  {
   "cell_type": "code",
   "execution_count": 48,
   "id": "1d58fced",
   "metadata": {},
   "outputs": [
    {
     "name": "stdout",
     "output_type": "stream",
     "text": [
      "{6}\n"
     ]
    }
   ],
   "source": [
    "s.add(6)\n",
    "print(s)"
   ]
  },
  {
   "cell_type": "code",
   "execution_count": 49,
   "id": "a066666f",
   "metadata": {},
   "outputs": [
    {
     "name": "stdout",
     "output_type": "stream",
     "text": [
      "{5, 6, 7}\n"
     ]
    }
   ],
   "source": [
    "s=s.union({5,6,7})\n",
    "print(s)"
   ]
  },
  {
   "cell_type": "code",
   "execution_count": 50,
   "id": "faf875fa",
   "metadata": {},
   "outputs": [
    {
     "data": {
      "text/plain": [
       "set()"
      ]
     },
     "execution_count": 50,
     "metadata": {},
     "output_type": "execute_result"
    }
   ],
   "source": [
    "s1.intersection([6,7])"
   ]
  },
  {
   "cell_type": "code",
   "execution_count": 51,
   "id": "babf2c2b",
   "metadata": {},
   "outputs": [
    {
     "name": "stdout",
     "output_type": "stream",
     "text": [
      "{6, 7}\n"
     ]
    }
   ],
   "source": [
    "s.remove(5)\n",
    "print(s)"
   ]
  },
  {
   "cell_type": "markdown",
   "id": "426eaff6",
   "metadata": {},
   "source": [
    "# 6. WHILE LOOP (Sum of n Numbers)"
   ]
  },
  {
   "cell_type": "code",
   "execution_count": 52,
   "id": "b3f13285",
   "metadata": {},
   "outputs": [
    {
     "name": "stdout",
     "output_type": "stream",
     "text": [
      "Enter n: 10\n",
      "The sum is 55\n"
     ]
    }
   ],
   "source": [
    "n=int(input(\"Enter n: \"))\n",
    "i=1\n",
    "sum=0\n",
    "while i<=n:\n",
    "    sum=sum+i\n",
    "    i=i+1\n",
    "print(\"The sum is\",sum)"
   ]
  },
  {
   "cell_type": "code",
   "execution_count": null,
   "id": "b038ad57",
   "metadata": {},
   "outputs": [],
   "source": []
  }
 ],
 "metadata": {
  "kernelspec": {
   "display_name": "Python 3.8.10 64-bit",
   "language": "python",
   "name": "python3"
  },
  "language_info": {
   "codemirror_mode": {
    "name": "ipython",
    "version": 3
   },
   "file_extension": ".py",
   "mimetype": "text/x-python",
   "name": "python",
   "nbconvert_exporter": "python",
   "pygments_lexer": "ipython3",
   "version": "3.8.10 (tags/v3.8.10:3d8993a, May  3 2021, 11:48:03) [MSC v.1928 64 bit (AMD64)]"
  },
  "vscode": {
   "interpreter": {
    "hash": "290a1579c21c8053f5d0adc532ed67c024ae0181cc5426fb574bfa95c9a853de"
   }
  }
 },
 "nbformat": 4,
 "nbformat_minor": 5
}

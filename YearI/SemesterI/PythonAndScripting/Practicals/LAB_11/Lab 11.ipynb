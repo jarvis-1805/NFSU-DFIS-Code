{
 "cells": [
  {
   "cell_type": "code",
   "execution_count": 1,
   "id": "60229900",
   "metadata": {},
   "outputs": [
    {
     "name": "stdout",
     "output_type": "stream",
     "text": [
      "LAB 11 SHUBHANG GUPTA 2022-12-09 18:25:02.339476\n",
      "[227 192 152]\n",
      "(562, 1000, 3)\n"
     ]
    }
   ],
   "source": [
    "import numpy as np\n",
    "import cv2\n",
    "import datetime\n",
    "\n",
    "current_time = datetime.datetime.now()\n",
    "print(\"LAB 11 SHUBHANG GUPTA \"+str(current_time))\n",
    "img = cv2.imread(\"lake.jpg\")\n",
    "pixel = img[100, 100]\n",
    "print(pixel)\n",
    "print(img.shape)\n",
    "cv2.imshow(\"forensic\",img)\n",
    "for i in range(100,300):\n",
    "    for j in range(100,300):\n",
    "        img[i,j] = [0,0,0]\n",
    "cv2.imshow(\"forensic\",img)\n",
    "cv2.waitKey(0)\n",
    "cv2.destroyAllWindows()"
   ]
  },
  {
   "cell_type": "code",
   "execution_count": 2,
   "id": "6dd9272b",
   "metadata": {},
   "outputs": [
    {
     "name": "stdout",
     "output_type": "stream",
     "text": [
      "LAB 11 SHUBHANG GUPTA 2022-12-09 18:25:28.470055\n"
     ]
    }
   ],
   "source": [
    "import cv2\n",
    "import numpy as np\n",
    "import matplotlib.pyplot as plt\n",
    "import datetime\n",
    "\n",
    "current_time = datetime.datetime.now()\n",
    "print(\"LAB 11 SHUBHANG GUPTA \"+str(current_time))\n",
    "image=cv2.imread('lake.jpg',1)\n",
    "roi=image[100:400,200:400]\n",
    "cv2.imshow(\"forensic\", roi)\n",
    "cv2.waitKey(0)\n",
    "cv2.destroyAllWindows()"
   ]
  },
  {
   "cell_type": "code",
   "execution_count": 3,
   "id": "dfee9216",
   "metadata": {},
   "outputs": [
    {
     "name": "stdout",
     "output_type": "stream",
     "text": [
      "LAB 11 SHUBHANG GUPTA 2022-12-09 18:25:47.059413\n"
     ]
    }
   ],
   "source": [
    "import cv2 \n",
    "import datetime\n",
    "\n",
    "current_time = datetime.datetime.now()\n",
    "print(\"LAB 11 SHUBHANG GUPTA \"+str(current_time))\n",
    "image=cv2.imread('lake.jpg')\n",
    "img = cv2.cvtColor(image, cv2.COLOR_BGR2GRAY)\n",
    "threshold=160 \n",
    "ret, thresh1=cv2.threshold(img, threshold,255,cv2.THRESH_BINARY)\n",
    "ret, thresh2 = cv2.threshold(img, threshold, 255, cv2.THRESH_BINARY_INV)\n",
    "ret, thresh3= cv2.threshold(img, threshold, 255, cv2.THRESH_TRUNC)\n",
    "ret, thresh4 = cv2.threshold (img, threshold, 255, cv2.THRESH_TOZERO)\n",
    "ret, thresh5= cv2.threshold(img, threshold, 255, cv2.THRESH_TOZERO_INV)\n",
    "cv2.imshow('Binary Threshold', thresh1) \n",
    "cv2.imshow('Binary Inverted', thresh2) \n",
    "cv2.imshow('Truncated Threshold', thresh3)\n",
    "cv2.imshow(\"Zero Threshold\", thresh4)\n",
    "cv2.imshow('Zero Inverted', thresh5)\n",
    "cv2.waitKey(0)\n",
    "cv2.destroyAllWindows()"
   ]
  },
  {
   "cell_type": "code",
   "execution_count": 4,
   "id": "5ef19790",
   "metadata": {},
   "outputs": [
    {
     "name": "stdout",
     "output_type": "stream",
     "text": [
      "LAB 11 SHUBHANG GUPTA 2022-12-09 18:25:56.451482\n"
     ]
    }
   ],
   "source": [
    "import cv2\n",
    "import numpy as np\n",
    "import datetime\n",
    "current_time = datetime.datetime.now()\n",
    "print(\"LAB 11 SHUBHANG GUPTA \"+str(current_time))\n",
    "image=cv2.imread('lake.jpg',1)\n",
    "edged = cv2.Canny(image, 30, 200)\n",
    "cv2.waitKey(0)\n",
    "contours, hierarchy = cv2.findContours(edged, cv2.RETR_EXTERNAL, cv2.CHAIN_APPROX_NONE)\n",
    "cv2.imshow('Original', image)\n",
    "cv2.imshow('Canny Edges After Contouring', edged)\n",
    "cv2.drawContours (image, contours, -1, (0, 255, 0), 3)\n",
    "cv2.imshow('Contours', image)\n",
    "cv2.waitKey(0)\n",
    "cv2.destroyAllWindows()"
   ]
  },
  {
   "cell_type": "code",
   "execution_count": null,
   "id": "1f40b83b",
   "metadata": {},
   "outputs": [],
   "source": []
  }
 ],
 "metadata": {
  "kernelspec": {
   "display_name": "Python 3 (ipykernel)",
   "language": "python",
   "name": "python3"
  },
  "language_info": {
   "codemirror_mode": {
    "name": "ipython",
    "version": 3
   },
   "file_extension": ".py",
   "mimetype": "text/x-python",
   "name": "python",
   "nbconvert_exporter": "python",
   "pygments_lexer": "ipython3",
   "version": "3.8.10 (tags/v3.8.10:3d8993a, May  3 2021, 11:48:03) [MSC v.1928 64 bit (AMD64)]"
  },
  "vscode": {
   "interpreter": {
    "hash": "290a1579c21c8053f5d0adc532ed67c024ae0181cc5426fb574bfa95c9a853de"
   }
  }
 },
 "nbformat": 4,
 "nbformat_minor": 5
}

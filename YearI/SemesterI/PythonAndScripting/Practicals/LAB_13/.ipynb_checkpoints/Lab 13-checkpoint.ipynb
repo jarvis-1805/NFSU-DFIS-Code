{
 "cells": [
  {
   "cell_type": "code",
   "execution_count": null,
   "id": "e5b8c435",
   "metadata": {},
   "outputs": [],
   "source": [
    "from datetime import datetime\n",
    "current_time = datetime.now()\n",
    "print(\"LAB 13 SHUBHANG GUPTA\",str(current_time))"
   ]
  },
  {
   "cell_type": "code",
   "execution_count": null,
   "id": "f07b8baf",
   "metadata": {},
   "outputs": [],
   "source": [
    "import subprocess\n",
    "for ping in range(1,10):\n",
    "    address = \"127.0.0.\"+str(ping)\n",
    "    res = subprocess.call(['ping','-c','3',address])\n",
    "    if res == 0:\n",
    "        print(\"ping to\",address,\"OK\")\n",
    "    elif res == 2:\n",
    "        print(\"no response from\",address)\n",
    "    else:\n",
    "        print(\"ping to\",address,\"failed!\")"
   ]
  },
  {
   "cell_type": "code",
   "execution_count": null,
   "id": "4737b96a",
   "metadata": {},
   "outputs": [],
   "source": [
    "from datetime import datetime\n",
    "current_time = datetime.now()\n",
    "print(\"LAB 13 SHUBHANG GUPTA\",str(current_time))"
   ]
  },
  {
   "cell_type": "code",
   "execution_count": null,
   "id": "4d70ae8e",
   "metadata": {},
   "outputs": [],
   "source": [
    "import scapy.all as scapy\n",
    "def sniffing(interface):\n",
    "    scapy.sniff(iface=interface,store=False,prn=process_packet)\n",
    "def process_packet(packet): \n",
    "    print(packet.summary())\n",
    "sniffing(\"Wi-Fi\")"
   ]
  },
  {
   "cell_type": "code",
   "execution_count": null,
   "id": "dcdf57bc",
   "metadata": {},
   "outputs": [],
   "source": [
    "from datetime import datetime\n",
    "current_time = datetime.now()\n",
    "print(\"LAB 13 SHUBHANG GUPTA\",str(current_time))"
   ]
  },
  {
   "cell_type": "code",
   "execution_count": null,
   "id": "e6df23b8",
   "metadata": {},
   "outputs": [],
   "source": [
    "import scapy.all as scapy\n",
    "def sniffing(interface):\n",
    "    scapy.sniff(iface=interface,store=False,prn=process_packet,filter=\"tcp\",count=5)\n",
    "def process_packet(packet): \n",
    "    print(packet.summary())\n",
    "sniffing(\"Wi-Fi\")"
   ]
  },
  {
   "cell_type": "code",
   "execution_count": null,
   "id": "83792392",
   "metadata": {},
   "outputs": [],
   "source": [
    "from datetime import datetime\n",
    "current_time = datetime.now()\n",
    "print(\"LAB 13 SHUBHANG GUPTA\",str(current_time))"
   ]
  },
  {
   "cell_type": "code",
   "execution_count": null,
   "id": "0c11ab7d",
   "metadata": {},
   "outputs": [],
   "source": [
    "import scapy.all as scapy\n",
    "capture=scapy.sniff(iface=\"Wi-Fi\",count=5) \n",
    "scapy.wrpcap(\"pkts1.pcap\", capture)\n",
    "scapy.sniff(offline=\"pkts1.pcap\")"
   ]
  },
  {
   "cell_type": "code",
   "execution_count": null,
   "id": "f4ad1a29",
   "metadata": {},
   "outputs": [],
   "source": [
    "from datetime import datetime\n",
    "current_time = datetime.now()\n",
    "print(\"LAB 13 SHUBHANG GUPTA\",str(current_time))"
   ]
  },
  {
   "cell_type": "code",
   "execution_count": null,
   "id": "7cae7632",
   "metadata": {},
   "outputs": [],
   "source": [
    "def chori(interface): \n",
    "    scapy.sniff(iface=interface,store=False,prn=process_packet,filter=\"tcp\",count=1)\n",
    "def process_packet(packet):\n",
    "    print(packet.show())\n",
    "chori(\"Wi-Fi\")"
   ]
  },
  {
   "cell_type": "code",
   "execution_count": null,
   "id": "ae245ac6",
   "metadata": {},
   "outputs": [],
   "source": [
    "from datetime import datetime\n",
    "current_time = datetime.now()\n",
    "print(\"LAB 13 SHUBHANG GUPTA\",str(current_time))"
   ]
  },
  {
   "cell_type": "code",
   "execution_count": null,
   "id": "52089df1",
   "metadata": {},
   "outputs": [],
   "source": [
    "pkt=scapy.sniff(count=1,filter=\"tcp\")\n",
    "print(pkt.show())"
   ]
  },
  {
   "cell_type": "code",
   "execution_count": null,
   "id": "6b386f82",
   "metadata": {},
   "outputs": [],
   "source": []
  },
  {
   "cell_type": "code",
   "execution_count": null,
   "id": "278ac3af",
   "metadata": {},
   "outputs": [],
   "source": []
  }
 ],
 "metadata": {
  "kernelspec": {
   "display_name": "Python 3 (ipykernel)",
   "language": "python",
   "name": "python3"
  },
  "language_info": {
   "codemirror_mode": {
    "name": "ipython",
    "version": 3
   },
   "file_extension": ".py",
   "mimetype": "text/x-python",
   "name": "python",
   "nbconvert_exporter": "python",
   "pygments_lexer": "ipython3",
   "version": "3.8.10"
  }
 },
 "nbformat": 4,
 "nbformat_minor": 5
}

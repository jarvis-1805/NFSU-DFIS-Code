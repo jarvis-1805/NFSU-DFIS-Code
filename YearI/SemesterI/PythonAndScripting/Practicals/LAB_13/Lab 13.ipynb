{
 "cells": [
  {
   "cell_type": "code",
   "execution_count": 3,
   "id": "e5b8c435",
   "metadata": {},
   "outputs": [
    {
     "name": "stdout",
     "output_type": "stream",
     "text": [
      "LAB 13 SHUBHANG GUPTA 2022-12-27 12:53:29.612928\n"
     ]
    }
   ],
   "source": [
    "from datetime import datetime\n",
    "current_time = datetime.now()\n",
    "print(\"LAB 13 SHUBHANG GUPTA\",str(current_time))"
   ]
  },
  {
   "cell_type": "code",
   "execution_count": 2,
   "id": "f07b8baf",
   "metadata": {},
   "outputs": [
    {
     "name": "stdout",
     "output_type": "stream",
     "text": [
      "ping to 127.0.0.1 failed!\n",
      "ping to 127.0.0.2 failed!\n",
      "ping to 127.0.0.3 failed!\n",
      "ping to 127.0.0.4 failed!\n",
      "ping to 127.0.0.5 failed!\n",
      "ping to 127.0.0.6 failed!\n",
      "ping to 127.0.0.7 failed!\n",
      "ping to 127.0.0.8 failed!\n",
      "ping to 127.0.0.9 failed!\n"
     ]
    }
   ],
   "source": [
    "import subprocess\n",
    "for ping in range(1,10):\n",
    "    address = \"127.0.0.\"+str(ping)\n",
    "    res = subprocess.call(['ping','-c','3',address])\n",
    "    if res == 0:\n",
    "        print(\"ping to\",address,\"OK\")\n",
    "    elif res == 2:\n",
    "        print(\"no response from\",address)\n",
    "    else:\n",
    "        print(\"ping to\",address,\"failed!\")"
   ]
  },
  {
   "cell_type": "code",
   "execution_count": 3,
   "id": "f944191e",
   "metadata": {},
   "outputs": [
    {
     "name": "stdout",
     "output_type": "stream",
     "text": [
      "LAB 13 SHUBHANG GUPTA 2022-12-27 00:34:59.823026\n"
     ]
    }
   ],
   "source": [
    "from datetime import datetime\n",
    "current_time = datetime.now()\n",
    "print(\"LAB 13 SHUBHANG GUPTA\",str(current_time))"
   ]
  },
  {
   "cell_type": "code",
   "execution_count": 2,
   "id": "4d70ae8e",
   "metadata": {},
   "outputs": [
    {
     "ename": "OSError",
     "evalue": "b'Error opening adapter: The filename, directory name, or volume label syntax is incorrect.  (123)'",
     "output_type": "error",
     "traceback": [
      "\u001b[1;31m---------------------------------------------------------------------------\u001b[0m",
      "\u001b[1;31mOSError\u001b[0m                                   Traceback (most recent call last)",
      "Input \u001b[1;32mIn [2]\u001b[0m, in \u001b[0;36m<cell line: 6>\u001b[1;34m()\u001b[0m\n\u001b[0;32m      4\u001b[0m \u001b[38;5;28;01mdef\u001b[39;00m \u001b[38;5;21mprocess_packet\u001b[39m(packet):\n\u001b[0;32m      5\u001b[0m     \u001b[38;5;28mprint\u001b[39m(packet\u001b[38;5;241m.\u001b[39msummary())\n\u001b[1;32m----> 6\u001b[0m \u001b[43msniffing\u001b[49m\u001b[43m(\u001b[49m\u001b[38;5;124;43m\"\u001b[39;49m\u001b[38;5;124;43mWi-Fi\u001b[39;49m\u001b[38;5;124;43m\"\u001b[39;49m\u001b[43m)\u001b[49m\n",
      "Input \u001b[1;32mIn [2]\u001b[0m, in \u001b[0;36msniffing\u001b[1;34m(interface)\u001b[0m\n\u001b[0;32m      2\u001b[0m \u001b[38;5;28;01mdef\u001b[39;00m \u001b[38;5;21msniffing\u001b[39m(interface):\n\u001b[1;32m----> 3\u001b[0m     \u001b[43mscapy\u001b[49m\u001b[38;5;241;43m.\u001b[39;49m\u001b[43msniff\u001b[49m\u001b[43m(\u001b[49m\u001b[43miface\u001b[49m\u001b[38;5;241;43m=\u001b[39;49m\u001b[43minterface\u001b[49m\u001b[43m,\u001b[49m\u001b[43mstore\u001b[49m\u001b[38;5;241;43m=\u001b[39;49m\u001b[38;5;28;43;01mFalse\u001b[39;49;00m\u001b[43m,\u001b[49m\u001b[43mprn\u001b[49m\u001b[38;5;241;43m=\u001b[39;49m\u001b[43mprocess_packet\u001b[49m\u001b[43m)\u001b[49m\n",
      "File \u001b[1;32m~\\AppData\\Local\\Programs\\Python\\Python38\\lib\\site-packages\\scapy\\sendrecv.py:1263\u001b[0m, in \u001b[0;36msniff\u001b[1;34m(*args, **kwargs)\u001b[0m\n\u001b[0;32m   1259\u001b[0m \u001b[38;5;129m@conf\u001b[39m\u001b[38;5;241m.\u001b[39mcommands\u001b[38;5;241m.\u001b[39mregister\n\u001b[0;32m   1260\u001b[0m \u001b[38;5;28;01mdef\u001b[39;00m \u001b[38;5;21msniff\u001b[39m(\u001b[38;5;241m*\u001b[39margs, \u001b[38;5;241m*\u001b[39m\u001b[38;5;241m*\u001b[39mkwargs):\n\u001b[0;32m   1261\u001b[0m     \u001b[38;5;66;03m# type: (*Any, **Any) -> PacketList\u001b[39;00m\n\u001b[0;32m   1262\u001b[0m     sniffer \u001b[38;5;241m=\u001b[39m AsyncSniffer()\n\u001b[1;32m-> 1263\u001b[0m     \u001b[43msniffer\u001b[49m\u001b[38;5;241;43m.\u001b[39;49m\u001b[43m_run\u001b[49m\u001b[43m(\u001b[49m\u001b[38;5;241;43m*\u001b[39;49m\u001b[43margs\u001b[49m\u001b[43m,\u001b[49m\u001b[43m \u001b[49m\u001b[38;5;241;43m*\u001b[39;49m\u001b[38;5;241;43m*\u001b[39;49m\u001b[43mkwargs\u001b[49m\u001b[43m)\u001b[49m\n\u001b[0;32m   1264\u001b[0m     \u001b[38;5;28;01mreturn\u001b[39;00m cast(PacketList, sniffer\u001b[38;5;241m.\u001b[39mresults)\n",
      "File \u001b[1;32m~\\AppData\\Local\\Programs\\Python\\Python38\\lib\\site-packages\\scapy\\sendrecv.py:1127\u001b[0m, in \u001b[0;36mAsyncSniffer._run\u001b[1;34m(self, count, store, offline, quiet, prn, lfilter, L2socket, timeout, opened_socket, stop_filter, iface, started_callback, session, session_kwargs, **karg)\u001b[0m\n\u001b[0;32m   1121\u001b[0m         sniff_sockets\u001b[38;5;241m.\u001b[39mupdate(\n\u001b[0;32m   1122\u001b[0m             (L2socket(\u001b[38;5;28mtype\u001b[39m\u001b[38;5;241m=\u001b[39mETH_P_ALL, iface\u001b[38;5;241m=\u001b[39mifname, \u001b[38;5;241m*\u001b[39m\u001b[38;5;241m*\u001b[39mkarg),\n\u001b[0;32m   1123\u001b[0m              iflabel)\n\u001b[0;32m   1124\u001b[0m             \u001b[38;5;28;01mfor\u001b[39;00m ifname, iflabel \u001b[38;5;129;01min\u001b[39;00m six\u001b[38;5;241m.\u001b[39miteritems(iface)\n\u001b[0;32m   1125\u001b[0m         )\n\u001b[0;32m   1126\u001b[0m     \u001b[38;5;28;01melse\u001b[39;00m:\n\u001b[1;32m-> 1127\u001b[0m         sniff_sockets[\u001b[43mL2socket\u001b[49m\u001b[43m(\u001b[49m\u001b[38;5;28;43mtype\u001b[39;49m\u001b[38;5;241;43m=\u001b[39;49m\u001b[43mETH_P_ALL\u001b[49m\u001b[43m,\u001b[49m\u001b[43m \u001b[49m\u001b[43miface\u001b[49m\u001b[38;5;241;43m=\u001b[39;49m\u001b[43miface\u001b[49m\u001b[43m,\u001b[49m\n\u001b[0;32m   1128\u001b[0m \u001b[43m                               \u001b[49m\u001b[38;5;241;43m*\u001b[39;49m\u001b[38;5;241;43m*\u001b[39;49m\u001b[43mkarg\u001b[49m\u001b[43m)\u001b[49m] \u001b[38;5;241m=\u001b[39m iface\n\u001b[0;32m   1130\u001b[0m \u001b[38;5;66;03m# Get select information from the sockets\u001b[39;00m\n\u001b[0;32m   1131\u001b[0m _main_socket \u001b[38;5;241m=\u001b[39m \u001b[38;5;28mnext\u001b[39m(\u001b[38;5;28miter\u001b[39m(sniff_sockets))\n",
      "File \u001b[1;32m~\\AppData\\Local\\Programs\\Python\\Python38\\lib\\site-packages\\scapy\\arch\\libpcap.py:376\u001b[0m, in \u001b[0;36mL2pcapListenSocket.__init__\u001b[1;34m(self, iface, type, promisc, filter, monitor)\u001b[0m\n\u001b[0;32m    374\u001b[0m     promisc \u001b[38;5;241m=\u001b[39m conf\u001b[38;5;241m.\u001b[39msniff_promisc\n\u001b[0;32m    375\u001b[0m \u001b[38;5;28mself\u001b[39m\u001b[38;5;241m.\u001b[39mpromisc \u001b[38;5;241m=\u001b[39m promisc\n\u001b[1;32m--> 376\u001b[0m \u001b[38;5;28mself\u001b[39m\u001b[38;5;241m.\u001b[39mins \u001b[38;5;241m=\u001b[39m \u001b[43mopen_pcap\u001b[49m\u001b[43m(\u001b[49m\u001b[43miface\u001b[49m\u001b[43m,\u001b[49m\u001b[43m \u001b[49m\u001b[43mMTU\u001b[49m\u001b[43m,\u001b[49m\u001b[43m \u001b[49m\u001b[38;5;28;43mself\u001b[39;49m\u001b[38;5;241;43m.\u001b[39;49m\u001b[43mpromisc\u001b[49m\u001b[43m,\u001b[49m\u001b[43m \u001b[49m\u001b[38;5;241;43m100\u001b[39;49m\u001b[43m,\u001b[49m\n\u001b[0;32m    377\u001b[0m \u001b[43m                     \u001b[49m\u001b[43mmonitor\u001b[49m\u001b[38;5;241;43m=\u001b[39;49m\u001b[43mmonitor\u001b[49m\u001b[43m)\u001b[49m\n\u001b[0;32m    378\u001b[0m \u001b[38;5;28;01mtry\u001b[39;00m:\n\u001b[0;32m    379\u001b[0m     ioctl(\u001b[38;5;28mself\u001b[39m\u001b[38;5;241m.\u001b[39mins\u001b[38;5;241m.\u001b[39mfileno(), BIOCIMMEDIATE, struct\u001b[38;5;241m.\u001b[39mpack(\u001b[38;5;124m\"\u001b[39m\u001b[38;5;124mI\u001b[39m\u001b[38;5;124m\"\u001b[39m, \u001b[38;5;241m1\u001b[39m))\n",
      "File \u001b[1;32m~\\AppData\\Local\\Programs\\Python\\Python38\\lib\\site-packages\\scapy\\arch\\windows\\__init__.py:704\u001b[0m, in \u001b[0;36mopen_pcap\u001b[1;34m(iface, *args, **kargs)\u001b[0m\n\u001b[0;32m    700\u001b[0m     \u001b[38;5;28;01mif\u001b[39;00m kw_monitor \u001b[38;5;129;01mis\u001b[39;00m \u001b[38;5;129;01mnot\u001b[39;00m monitored:\n\u001b[0;32m    701\u001b[0m         \u001b[38;5;66;03m# The monitor param is specified, and not matching the current\u001b[39;00m\n\u001b[0;32m    702\u001b[0m         \u001b[38;5;66;03m# interface state\u001b[39;00m\n\u001b[0;32m    703\u001b[0m         iface\u001b[38;5;241m.\u001b[39msetmonitor(kw_monitor)\n\u001b[1;32m--> 704\u001b[0m \u001b[38;5;28;01mreturn\u001b[39;00m \u001b[43m_orig_open_pcap\u001b[49m\u001b[43m(\u001b[49m\u001b[43miface_network_name\u001b[49m\u001b[43m,\u001b[49m\u001b[43m \u001b[49m\u001b[38;5;241;43m*\u001b[39;49m\u001b[43margs\u001b[49m\u001b[43m,\u001b[49m\u001b[43m \u001b[49m\u001b[38;5;241;43m*\u001b[39;49m\u001b[38;5;241;43m*\u001b[39;49m\u001b[43mkargs\u001b[49m\u001b[43m)\u001b[49m\n",
      "File \u001b[1;32m~\\AppData\\Local\\Programs\\Python\\Python38\\lib\\site-packages\\scapy\\arch\\libpcap.py:254\u001b[0m, in \u001b[0;36m_PcapWrapper_libpcap.__init__\u001b[1;34m(self, device, snaplen, promisc, to_ms, monitor)\u001b[0m\n\u001b[0;32m    252\u001b[0m     error \u001b[38;5;241m=\u001b[39m \u001b[38;5;28mbytes\u001b[39m(\u001b[38;5;28mbytearray\u001b[39m(\u001b[38;5;28mself\u001b[39m\u001b[38;5;241m.\u001b[39merrbuf))\u001b[38;5;241m.\u001b[39mstrip(\u001b[38;5;124mb\u001b[39m\u001b[38;5;124m\"\u001b[39m\u001b[38;5;130;01m\\x00\u001b[39;00m\u001b[38;5;124m\"\u001b[39m)\n\u001b[0;32m    253\u001b[0m     \u001b[38;5;28;01mif\u001b[39;00m error:\n\u001b[1;32m--> 254\u001b[0m         \u001b[38;5;28;01mraise\u001b[39;00m \u001b[38;5;167;01mOSError\u001b[39;00m(error)\n\u001b[0;32m    256\u001b[0m \u001b[38;5;28;01mif\u001b[39;00m WINDOWS:\n\u001b[0;32m    257\u001b[0m     \u001b[38;5;66;03m# Winpcap/Npcap exclusive: make every packet to be instantly\u001b[39;00m\n\u001b[0;32m    258\u001b[0m     \u001b[38;5;66;03m# returned, and not buffered within Winpcap/Npcap\u001b[39;00m\n\u001b[0;32m    259\u001b[0m     pcap_setmintocopy(\u001b[38;5;28mself\u001b[39m\u001b[38;5;241m.\u001b[39mpcap, \u001b[38;5;241m0\u001b[39m)\n",
      "\u001b[1;31mOSError\u001b[0m: b'Error opening adapter: The filename, directory name, or volume label syntax is incorrect.  (123)'"
     ]
    }
   ],
   "source": [
    "import scapy.all as scapy\n",
    "def sniffing(interface):\n",
    "    scapy.sniff(iface=interface,store=False,prn=process_packet)\n",
    "def process_packet(packet):\n",
    "    print(packet.summary())\n",
    "sniffing(\"Wi-Fi\")"
   ]
  },
  {
   "cell_type": "code",
   "execution_count": 9,
   "id": "1bd2325a",
   "metadata": {},
   "outputs": [
    {
     "name": "stdout",
     "output_type": "stream",
     "text": [
      "LAB 13 SHUBHANG GUPTA 2022-12-27 00:42:50.354226\n"
     ]
    }
   ],
   "source": [
    "from datetime import datetime\n",
    "current_time = datetime.now()\n",
    "print(\"LAB 13 SHUBHANG GUPTA\",str(current_time))"
   ]
  },
  {
   "cell_type": "code",
   "execution_count": 10,
   "id": "e6df23b8",
   "metadata": {},
   "outputs": [
    {
     "ename": "OSError",
     "evalue": "b'Error opening adapter: The filename, directory name, or volume label syntax is incorrect.  (123)'",
     "output_type": "error",
     "traceback": [
      "\u001b[1;31m---------------------------------------------------------------------------\u001b[0m",
      "\u001b[1;31mOSError\u001b[0m                                   Traceback (most recent call last)",
      "Input \u001b[1;32mIn [10]\u001b[0m, in \u001b[0;36m<cell line: 6>\u001b[1;34m()\u001b[0m\n\u001b[0;32m      4\u001b[0m \u001b[38;5;28;01mdef\u001b[39;00m \u001b[38;5;21mprocess_packet\u001b[39m(packet): \n\u001b[0;32m      5\u001b[0m     \u001b[38;5;28mprint\u001b[39m(packet\u001b[38;5;241m.\u001b[39msummary())\n\u001b[1;32m----> 6\u001b[0m \u001b[43msniffing\u001b[49m\u001b[43m(\u001b[49m\u001b[38;5;124;43m\"\u001b[39;49m\u001b[38;5;124;43mWi-Fi\u001b[39;49m\u001b[38;5;124;43m\"\u001b[39;49m\u001b[43m)\u001b[49m\n",
      "Input \u001b[1;32mIn [10]\u001b[0m, in \u001b[0;36msniffing\u001b[1;34m(interface)\u001b[0m\n\u001b[0;32m      2\u001b[0m \u001b[38;5;28;01mdef\u001b[39;00m \u001b[38;5;21msniffing\u001b[39m(interface):\n\u001b[1;32m----> 3\u001b[0m     \u001b[43mscapy\u001b[49m\u001b[38;5;241;43m.\u001b[39;49m\u001b[43msniff\u001b[49m\u001b[43m(\u001b[49m\u001b[43miface\u001b[49m\u001b[38;5;241;43m=\u001b[39;49m\u001b[43minterface\u001b[49m\u001b[43m,\u001b[49m\u001b[43mstore\u001b[49m\u001b[38;5;241;43m=\u001b[39;49m\u001b[38;5;28;43;01mFalse\u001b[39;49;00m\u001b[43m,\u001b[49m\u001b[43mprn\u001b[49m\u001b[38;5;241;43m=\u001b[39;49m\u001b[43mprocess_packet\u001b[49m\u001b[43m,\u001b[49m\u001b[38;5;28;43mfilter\u001b[39;49m\u001b[38;5;241;43m=\u001b[39;49m\u001b[38;5;124;43m\"\u001b[39;49m\u001b[38;5;124;43mtcp\u001b[39;49m\u001b[38;5;124;43m\"\u001b[39;49m\u001b[43m,\u001b[49m\u001b[43mcount\u001b[49m\u001b[38;5;241;43m=\u001b[39;49m\u001b[38;5;241;43m5\u001b[39;49m\u001b[43m)\u001b[49m\n",
      "File \u001b[1;32m~\\AppData\\Local\\Programs\\Python\\Python38\\lib\\site-packages\\scapy\\sendrecv.py:1263\u001b[0m, in \u001b[0;36msniff\u001b[1;34m(*args, **kwargs)\u001b[0m\n\u001b[0;32m   1259\u001b[0m \u001b[38;5;129m@conf\u001b[39m\u001b[38;5;241m.\u001b[39mcommands\u001b[38;5;241m.\u001b[39mregister\n\u001b[0;32m   1260\u001b[0m \u001b[38;5;28;01mdef\u001b[39;00m \u001b[38;5;21msniff\u001b[39m(\u001b[38;5;241m*\u001b[39margs, \u001b[38;5;241m*\u001b[39m\u001b[38;5;241m*\u001b[39mkwargs):\n\u001b[0;32m   1261\u001b[0m     \u001b[38;5;66;03m# type: (*Any, **Any) -> PacketList\u001b[39;00m\n\u001b[0;32m   1262\u001b[0m     sniffer \u001b[38;5;241m=\u001b[39m AsyncSniffer()\n\u001b[1;32m-> 1263\u001b[0m     \u001b[43msniffer\u001b[49m\u001b[38;5;241;43m.\u001b[39;49m\u001b[43m_run\u001b[49m\u001b[43m(\u001b[49m\u001b[38;5;241;43m*\u001b[39;49m\u001b[43margs\u001b[49m\u001b[43m,\u001b[49m\u001b[43m \u001b[49m\u001b[38;5;241;43m*\u001b[39;49m\u001b[38;5;241;43m*\u001b[39;49m\u001b[43mkwargs\u001b[49m\u001b[43m)\u001b[49m\n\u001b[0;32m   1264\u001b[0m     \u001b[38;5;28;01mreturn\u001b[39;00m cast(PacketList, sniffer\u001b[38;5;241m.\u001b[39mresults)\n",
      "File \u001b[1;32m~\\AppData\\Local\\Programs\\Python\\Python38\\lib\\site-packages\\scapy\\sendrecv.py:1127\u001b[0m, in \u001b[0;36mAsyncSniffer._run\u001b[1;34m(self, count, store, offline, quiet, prn, lfilter, L2socket, timeout, opened_socket, stop_filter, iface, started_callback, session, session_kwargs, **karg)\u001b[0m\n\u001b[0;32m   1121\u001b[0m         sniff_sockets\u001b[38;5;241m.\u001b[39mupdate(\n\u001b[0;32m   1122\u001b[0m             (L2socket(\u001b[38;5;28mtype\u001b[39m\u001b[38;5;241m=\u001b[39mETH_P_ALL, iface\u001b[38;5;241m=\u001b[39mifname, \u001b[38;5;241m*\u001b[39m\u001b[38;5;241m*\u001b[39mkarg),\n\u001b[0;32m   1123\u001b[0m              iflabel)\n\u001b[0;32m   1124\u001b[0m             \u001b[38;5;28;01mfor\u001b[39;00m ifname, iflabel \u001b[38;5;129;01min\u001b[39;00m six\u001b[38;5;241m.\u001b[39miteritems(iface)\n\u001b[0;32m   1125\u001b[0m         )\n\u001b[0;32m   1126\u001b[0m     \u001b[38;5;28;01melse\u001b[39;00m:\n\u001b[1;32m-> 1127\u001b[0m         sniff_sockets[\u001b[43mL2socket\u001b[49m\u001b[43m(\u001b[49m\u001b[38;5;28;43mtype\u001b[39;49m\u001b[38;5;241;43m=\u001b[39;49m\u001b[43mETH_P_ALL\u001b[49m\u001b[43m,\u001b[49m\u001b[43m \u001b[49m\u001b[43miface\u001b[49m\u001b[38;5;241;43m=\u001b[39;49m\u001b[43miface\u001b[49m\u001b[43m,\u001b[49m\n\u001b[0;32m   1128\u001b[0m \u001b[43m                               \u001b[49m\u001b[38;5;241;43m*\u001b[39;49m\u001b[38;5;241;43m*\u001b[39;49m\u001b[43mkarg\u001b[49m\u001b[43m)\u001b[49m] \u001b[38;5;241m=\u001b[39m iface\n\u001b[0;32m   1130\u001b[0m \u001b[38;5;66;03m# Get select information from the sockets\u001b[39;00m\n\u001b[0;32m   1131\u001b[0m _main_socket \u001b[38;5;241m=\u001b[39m \u001b[38;5;28mnext\u001b[39m(\u001b[38;5;28miter\u001b[39m(sniff_sockets))\n",
      "File \u001b[1;32m~\\AppData\\Local\\Programs\\Python\\Python38\\lib\\site-packages\\scapy\\arch\\libpcap.py:376\u001b[0m, in \u001b[0;36mL2pcapListenSocket.__init__\u001b[1;34m(self, iface, type, promisc, filter, monitor)\u001b[0m\n\u001b[0;32m    374\u001b[0m     promisc \u001b[38;5;241m=\u001b[39m conf\u001b[38;5;241m.\u001b[39msniff_promisc\n\u001b[0;32m    375\u001b[0m \u001b[38;5;28mself\u001b[39m\u001b[38;5;241m.\u001b[39mpromisc \u001b[38;5;241m=\u001b[39m promisc\n\u001b[1;32m--> 376\u001b[0m \u001b[38;5;28mself\u001b[39m\u001b[38;5;241m.\u001b[39mins \u001b[38;5;241m=\u001b[39m \u001b[43mopen_pcap\u001b[49m\u001b[43m(\u001b[49m\u001b[43miface\u001b[49m\u001b[43m,\u001b[49m\u001b[43m \u001b[49m\u001b[43mMTU\u001b[49m\u001b[43m,\u001b[49m\u001b[43m \u001b[49m\u001b[38;5;28;43mself\u001b[39;49m\u001b[38;5;241;43m.\u001b[39;49m\u001b[43mpromisc\u001b[49m\u001b[43m,\u001b[49m\u001b[43m \u001b[49m\u001b[38;5;241;43m100\u001b[39;49m\u001b[43m,\u001b[49m\n\u001b[0;32m    377\u001b[0m \u001b[43m                     \u001b[49m\u001b[43mmonitor\u001b[49m\u001b[38;5;241;43m=\u001b[39;49m\u001b[43mmonitor\u001b[49m\u001b[43m)\u001b[49m\n\u001b[0;32m    378\u001b[0m \u001b[38;5;28;01mtry\u001b[39;00m:\n\u001b[0;32m    379\u001b[0m     ioctl(\u001b[38;5;28mself\u001b[39m\u001b[38;5;241m.\u001b[39mins\u001b[38;5;241m.\u001b[39mfileno(), BIOCIMMEDIATE, struct\u001b[38;5;241m.\u001b[39mpack(\u001b[38;5;124m\"\u001b[39m\u001b[38;5;124mI\u001b[39m\u001b[38;5;124m\"\u001b[39m, \u001b[38;5;241m1\u001b[39m))\n",
      "File \u001b[1;32m~\\AppData\\Local\\Programs\\Python\\Python38\\lib\\site-packages\\scapy\\arch\\windows\\__init__.py:704\u001b[0m, in \u001b[0;36mopen_pcap\u001b[1;34m(iface, *args, **kargs)\u001b[0m\n\u001b[0;32m    700\u001b[0m     \u001b[38;5;28;01mif\u001b[39;00m kw_monitor \u001b[38;5;129;01mis\u001b[39;00m \u001b[38;5;129;01mnot\u001b[39;00m monitored:\n\u001b[0;32m    701\u001b[0m         \u001b[38;5;66;03m# The monitor param is specified, and not matching the current\u001b[39;00m\n\u001b[0;32m    702\u001b[0m         \u001b[38;5;66;03m# interface state\u001b[39;00m\n\u001b[0;32m    703\u001b[0m         iface\u001b[38;5;241m.\u001b[39msetmonitor(kw_monitor)\n\u001b[1;32m--> 704\u001b[0m \u001b[38;5;28;01mreturn\u001b[39;00m \u001b[43m_orig_open_pcap\u001b[49m\u001b[43m(\u001b[49m\u001b[43miface_network_name\u001b[49m\u001b[43m,\u001b[49m\u001b[43m \u001b[49m\u001b[38;5;241;43m*\u001b[39;49m\u001b[43margs\u001b[49m\u001b[43m,\u001b[49m\u001b[43m \u001b[49m\u001b[38;5;241;43m*\u001b[39;49m\u001b[38;5;241;43m*\u001b[39;49m\u001b[43mkargs\u001b[49m\u001b[43m)\u001b[49m\n",
      "File \u001b[1;32m~\\AppData\\Local\\Programs\\Python\\Python38\\lib\\site-packages\\scapy\\arch\\libpcap.py:254\u001b[0m, in \u001b[0;36m_PcapWrapper_libpcap.__init__\u001b[1;34m(self, device, snaplen, promisc, to_ms, monitor)\u001b[0m\n\u001b[0;32m    252\u001b[0m     error \u001b[38;5;241m=\u001b[39m \u001b[38;5;28mbytes\u001b[39m(\u001b[38;5;28mbytearray\u001b[39m(\u001b[38;5;28mself\u001b[39m\u001b[38;5;241m.\u001b[39merrbuf))\u001b[38;5;241m.\u001b[39mstrip(\u001b[38;5;124mb\u001b[39m\u001b[38;5;124m\"\u001b[39m\u001b[38;5;130;01m\\x00\u001b[39;00m\u001b[38;5;124m\"\u001b[39m)\n\u001b[0;32m    253\u001b[0m     \u001b[38;5;28;01mif\u001b[39;00m error:\n\u001b[1;32m--> 254\u001b[0m         \u001b[38;5;28;01mraise\u001b[39;00m \u001b[38;5;167;01mOSError\u001b[39;00m(error)\n\u001b[0;32m    256\u001b[0m \u001b[38;5;28;01mif\u001b[39;00m WINDOWS:\n\u001b[0;32m    257\u001b[0m     \u001b[38;5;66;03m# Winpcap/Npcap exclusive: make every packet to be instantly\u001b[39;00m\n\u001b[0;32m    258\u001b[0m     \u001b[38;5;66;03m# returned, and not buffered within Winpcap/Npcap\u001b[39;00m\n\u001b[0;32m    259\u001b[0m     pcap_setmintocopy(\u001b[38;5;28mself\u001b[39m\u001b[38;5;241m.\u001b[39mpcap, \u001b[38;5;241m0\u001b[39m)\n",
      "\u001b[1;31mOSError\u001b[0m: b'Error opening adapter: The filename, directory name, or volume label syntax is incorrect.  (123)'"
     ]
    }
   ],
   "source": [
    "import scapy.all as scapy\n",
    "def sniffing(interface):\n",
    "    scapy.sniff(iface=interface,store=False,prn=process_packet,filter=\"tcp\",count=5)\n",
    "def process_packet(packet): \n",
    "    print(packet.summary())\n",
    "sniffing(\"Wi-Fi\")"
   ]
  },
  {
   "cell_type": "code",
   "execution_count": 11,
   "id": "12a96a76",
   "metadata": {},
   "outputs": [
    {
     "name": "stdout",
     "output_type": "stream",
     "text": [
      "LAB 13 SHUBHANG GUPTA 2022-12-27 00:42:58.366495\n"
     ]
    }
   ],
   "source": [
    "from datetime import datetime\n",
    "current_time = datetime.now()\n",
    "print(\"LAB 13 SHUBHANG GUPTA\",str(current_time))"
   ]
  },
  {
   "cell_type": "code",
   "execution_count": 12,
   "id": "0c11ab7d",
   "metadata": {},
   "outputs": [
    {
     "ename": "OSError",
     "evalue": "b'Error opening adapter: The filename, directory name, or volume label syntax is incorrect.  (123)'",
     "output_type": "error",
     "traceback": [
      "\u001b[1;31m---------------------------------------------------------------------------\u001b[0m",
      "\u001b[1;31mOSError\u001b[0m                                   Traceback (most recent call last)",
      "Input \u001b[1;32mIn [12]\u001b[0m, in \u001b[0;36m<cell line: 2>\u001b[1;34m()\u001b[0m\n\u001b[0;32m      1\u001b[0m \u001b[38;5;28;01mimport\u001b[39;00m \u001b[38;5;21;01mscapy\u001b[39;00m\u001b[38;5;21;01m.\u001b[39;00m\u001b[38;5;21;01mall\u001b[39;00m \u001b[38;5;28;01mas\u001b[39;00m \u001b[38;5;21;01mscapy\u001b[39;00m\n\u001b[1;32m----> 2\u001b[0m capture\u001b[38;5;241m=\u001b[39m\u001b[43mscapy\u001b[49m\u001b[38;5;241;43m.\u001b[39;49m\u001b[43msniff\u001b[49m\u001b[43m(\u001b[49m\u001b[43miface\u001b[49m\u001b[38;5;241;43m=\u001b[39;49m\u001b[38;5;124;43m\"\u001b[39;49m\u001b[38;5;124;43mWi-Fi\u001b[39;49m\u001b[38;5;124;43m\"\u001b[39;49m\u001b[43m,\u001b[49m\u001b[43mcount\u001b[49m\u001b[38;5;241;43m=\u001b[39;49m\u001b[38;5;241;43m5\u001b[39;49m\u001b[43m)\u001b[49m \n\u001b[0;32m      3\u001b[0m scapy\u001b[38;5;241m.\u001b[39mwrpcap(\u001b[38;5;124m\"\u001b[39m\u001b[38;5;124mpkts1.pcap\u001b[39m\u001b[38;5;124m\"\u001b[39m, capture)\n\u001b[0;32m      4\u001b[0m scapy\u001b[38;5;241m.\u001b[39msniff(offline\u001b[38;5;241m=\u001b[39m\u001b[38;5;124m\"\u001b[39m\u001b[38;5;124mpkts1.pcap\u001b[39m\u001b[38;5;124m\"\u001b[39m)\n",
      "File \u001b[1;32m~\\AppData\\Local\\Programs\\Python\\Python38\\lib\\site-packages\\scapy\\sendrecv.py:1263\u001b[0m, in \u001b[0;36msniff\u001b[1;34m(*args, **kwargs)\u001b[0m\n\u001b[0;32m   1259\u001b[0m \u001b[38;5;129m@conf\u001b[39m\u001b[38;5;241m.\u001b[39mcommands\u001b[38;5;241m.\u001b[39mregister\n\u001b[0;32m   1260\u001b[0m \u001b[38;5;28;01mdef\u001b[39;00m \u001b[38;5;21msniff\u001b[39m(\u001b[38;5;241m*\u001b[39margs, \u001b[38;5;241m*\u001b[39m\u001b[38;5;241m*\u001b[39mkwargs):\n\u001b[0;32m   1261\u001b[0m     \u001b[38;5;66;03m# type: (*Any, **Any) -> PacketList\u001b[39;00m\n\u001b[0;32m   1262\u001b[0m     sniffer \u001b[38;5;241m=\u001b[39m AsyncSniffer()\n\u001b[1;32m-> 1263\u001b[0m     \u001b[43msniffer\u001b[49m\u001b[38;5;241;43m.\u001b[39;49m\u001b[43m_run\u001b[49m\u001b[43m(\u001b[49m\u001b[38;5;241;43m*\u001b[39;49m\u001b[43margs\u001b[49m\u001b[43m,\u001b[49m\u001b[43m \u001b[49m\u001b[38;5;241;43m*\u001b[39;49m\u001b[38;5;241;43m*\u001b[39;49m\u001b[43mkwargs\u001b[49m\u001b[43m)\u001b[49m\n\u001b[0;32m   1264\u001b[0m     \u001b[38;5;28;01mreturn\u001b[39;00m cast(PacketList, sniffer\u001b[38;5;241m.\u001b[39mresults)\n",
      "File \u001b[1;32m~\\AppData\\Local\\Programs\\Python\\Python38\\lib\\site-packages\\scapy\\sendrecv.py:1127\u001b[0m, in \u001b[0;36mAsyncSniffer._run\u001b[1;34m(self, count, store, offline, quiet, prn, lfilter, L2socket, timeout, opened_socket, stop_filter, iface, started_callback, session, session_kwargs, **karg)\u001b[0m\n\u001b[0;32m   1121\u001b[0m         sniff_sockets\u001b[38;5;241m.\u001b[39mupdate(\n\u001b[0;32m   1122\u001b[0m             (L2socket(\u001b[38;5;28mtype\u001b[39m\u001b[38;5;241m=\u001b[39mETH_P_ALL, iface\u001b[38;5;241m=\u001b[39mifname, \u001b[38;5;241m*\u001b[39m\u001b[38;5;241m*\u001b[39mkarg),\n\u001b[0;32m   1123\u001b[0m              iflabel)\n\u001b[0;32m   1124\u001b[0m             \u001b[38;5;28;01mfor\u001b[39;00m ifname, iflabel \u001b[38;5;129;01min\u001b[39;00m six\u001b[38;5;241m.\u001b[39miteritems(iface)\n\u001b[0;32m   1125\u001b[0m         )\n\u001b[0;32m   1126\u001b[0m     \u001b[38;5;28;01melse\u001b[39;00m:\n\u001b[1;32m-> 1127\u001b[0m         sniff_sockets[\u001b[43mL2socket\u001b[49m\u001b[43m(\u001b[49m\u001b[38;5;28;43mtype\u001b[39;49m\u001b[38;5;241;43m=\u001b[39;49m\u001b[43mETH_P_ALL\u001b[49m\u001b[43m,\u001b[49m\u001b[43m \u001b[49m\u001b[43miface\u001b[49m\u001b[38;5;241;43m=\u001b[39;49m\u001b[43miface\u001b[49m\u001b[43m,\u001b[49m\n\u001b[0;32m   1128\u001b[0m \u001b[43m                               \u001b[49m\u001b[38;5;241;43m*\u001b[39;49m\u001b[38;5;241;43m*\u001b[39;49m\u001b[43mkarg\u001b[49m\u001b[43m)\u001b[49m] \u001b[38;5;241m=\u001b[39m iface\n\u001b[0;32m   1130\u001b[0m \u001b[38;5;66;03m# Get select information from the sockets\u001b[39;00m\n\u001b[0;32m   1131\u001b[0m _main_socket \u001b[38;5;241m=\u001b[39m \u001b[38;5;28mnext\u001b[39m(\u001b[38;5;28miter\u001b[39m(sniff_sockets))\n",
      "File \u001b[1;32m~\\AppData\\Local\\Programs\\Python\\Python38\\lib\\site-packages\\scapy\\arch\\libpcap.py:376\u001b[0m, in \u001b[0;36mL2pcapListenSocket.__init__\u001b[1;34m(self, iface, type, promisc, filter, monitor)\u001b[0m\n\u001b[0;32m    374\u001b[0m     promisc \u001b[38;5;241m=\u001b[39m conf\u001b[38;5;241m.\u001b[39msniff_promisc\n\u001b[0;32m    375\u001b[0m \u001b[38;5;28mself\u001b[39m\u001b[38;5;241m.\u001b[39mpromisc \u001b[38;5;241m=\u001b[39m promisc\n\u001b[1;32m--> 376\u001b[0m \u001b[38;5;28mself\u001b[39m\u001b[38;5;241m.\u001b[39mins \u001b[38;5;241m=\u001b[39m \u001b[43mopen_pcap\u001b[49m\u001b[43m(\u001b[49m\u001b[43miface\u001b[49m\u001b[43m,\u001b[49m\u001b[43m \u001b[49m\u001b[43mMTU\u001b[49m\u001b[43m,\u001b[49m\u001b[43m \u001b[49m\u001b[38;5;28;43mself\u001b[39;49m\u001b[38;5;241;43m.\u001b[39;49m\u001b[43mpromisc\u001b[49m\u001b[43m,\u001b[49m\u001b[43m \u001b[49m\u001b[38;5;241;43m100\u001b[39;49m\u001b[43m,\u001b[49m\n\u001b[0;32m    377\u001b[0m \u001b[43m                     \u001b[49m\u001b[43mmonitor\u001b[49m\u001b[38;5;241;43m=\u001b[39;49m\u001b[43mmonitor\u001b[49m\u001b[43m)\u001b[49m\n\u001b[0;32m    378\u001b[0m \u001b[38;5;28;01mtry\u001b[39;00m:\n\u001b[0;32m    379\u001b[0m     ioctl(\u001b[38;5;28mself\u001b[39m\u001b[38;5;241m.\u001b[39mins\u001b[38;5;241m.\u001b[39mfileno(), BIOCIMMEDIATE, struct\u001b[38;5;241m.\u001b[39mpack(\u001b[38;5;124m\"\u001b[39m\u001b[38;5;124mI\u001b[39m\u001b[38;5;124m\"\u001b[39m, \u001b[38;5;241m1\u001b[39m))\n",
      "File \u001b[1;32m~\\AppData\\Local\\Programs\\Python\\Python38\\lib\\site-packages\\scapy\\arch\\windows\\__init__.py:704\u001b[0m, in \u001b[0;36mopen_pcap\u001b[1;34m(iface, *args, **kargs)\u001b[0m\n\u001b[0;32m    700\u001b[0m     \u001b[38;5;28;01mif\u001b[39;00m kw_monitor \u001b[38;5;129;01mis\u001b[39;00m \u001b[38;5;129;01mnot\u001b[39;00m monitored:\n\u001b[0;32m    701\u001b[0m         \u001b[38;5;66;03m# The monitor param is specified, and not matching the current\u001b[39;00m\n\u001b[0;32m    702\u001b[0m         \u001b[38;5;66;03m# interface state\u001b[39;00m\n\u001b[0;32m    703\u001b[0m         iface\u001b[38;5;241m.\u001b[39msetmonitor(kw_monitor)\n\u001b[1;32m--> 704\u001b[0m \u001b[38;5;28;01mreturn\u001b[39;00m \u001b[43m_orig_open_pcap\u001b[49m\u001b[43m(\u001b[49m\u001b[43miface_network_name\u001b[49m\u001b[43m,\u001b[49m\u001b[43m \u001b[49m\u001b[38;5;241;43m*\u001b[39;49m\u001b[43margs\u001b[49m\u001b[43m,\u001b[49m\u001b[43m \u001b[49m\u001b[38;5;241;43m*\u001b[39;49m\u001b[38;5;241;43m*\u001b[39;49m\u001b[43mkargs\u001b[49m\u001b[43m)\u001b[49m\n",
      "File \u001b[1;32m~\\AppData\\Local\\Programs\\Python\\Python38\\lib\\site-packages\\scapy\\arch\\libpcap.py:254\u001b[0m, in \u001b[0;36m_PcapWrapper_libpcap.__init__\u001b[1;34m(self, device, snaplen, promisc, to_ms, monitor)\u001b[0m\n\u001b[0;32m    252\u001b[0m     error \u001b[38;5;241m=\u001b[39m \u001b[38;5;28mbytes\u001b[39m(\u001b[38;5;28mbytearray\u001b[39m(\u001b[38;5;28mself\u001b[39m\u001b[38;5;241m.\u001b[39merrbuf))\u001b[38;5;241m.\u001b[39mstrip(\u001b[38;5;124mb\u001b[39m\u001b[38;5;124m\"\u001b[39m\u001b[38;5;130;01m\\x00\u001b[39;00m\u001b[38;5;124m\"\u001b[39m)\n\u001b[0;32m    253\u001b[0m     \u001b[38;5;28;01mif\u001b[39;00m error:\n\u001b[1;32m--> 254\u001b[0m         \u001b[38;5;28;01mraise\u001b[39;00m \u001b[38;5;167;01mOSError\u001b[39;00m(error)\n\u001b[0;32m    256\u001b[0m \u001b[38;5;28;01mif\u001b[39;00m WINDOWS:\n\u001b[0;32m    257\u001b[0m     \u001b[38;5;66;03m# Winpcap/Npcap exclusive: make every packet to be instantly\u001b[39;00m\n\u001b[0;32m    258\u001b[0m     \u001b[38;5;66;03m# returned, and not buffered within Winpcap/Npcap\u001b[39;00m\n\u001b[0;32m    259\u001b[0m     pcap_setmintocopy(\u001b[38;5;28mself\u001b[39m\u001b[38;5;241m.\u001b[39mpcap, \u001b[38;5;241m0\u001b[39m)\n",
      "\u001b[1;31mOSError\u001b[0m: b'Error opening adapter: The filename, directory name, or volume label syntax is incorrect.  (123)'"
     ]
    }
   ],
   "source": [
    "import scapy.all as scapy\n",
    "capture=scapy.sniff(iface=\"Wi-Fi\",count=5) \n",
    "scapy.wrpcap(\"pkts1.pcap\", capture)\n",
    "scapy.sniff(offline=\"pkts1.pcap\")"
   ]
  },
  {
   "cell_type": "code",
   "execution_count": 13,
   "id": "04bbb5ef",
   "metadata": {},
   "outputs": [
    {
     "name": "stdout",
     "output_type": "stream",
     "text": [
      "LAB 13 SHUBHANG GUPTA 2022-12-27 00:43:04.255557\n"
     ]
    }
   ],
   "source": [
    "from datetime import datetime\n",
    "current_time = datetime.now()\n",
    "print(\"LAB 13 SHUBHANG GUPTA\",str(current_time))"
   ]
  },
  {
   "cell_type": "code",
   "execution_count": 14,
   "id": "7cae7632",
   "metadata": {},
   "outputs": [
    {
     "ename": "OSError",
     "evalue": "b'Error opening adapter: The filename, directory name, or volume label syntax is incorrect.  (123)'",
     "output_type": "error",
     "traceback": [
      "\u001b[1;31m---------------------------------------------------------------------------\u001b[0m",
      "\u001b[1;31mOSError\u001b[0m                                   Traceback (most recent call last)",
      "Input \u001b[1;32mIn [14]\u001b[0m, in \u001b[0;36m<cell line: 5>\u001b[1;34m()\u001b[0m\n\u001b[0;32m      3\u001b[0m \u001b[38;5;28;01mdef\u001b[39;00m \u001b[38;5;21mprocess_packet\u001b[39m(packet):\n\u001b[0;32m      4\u001b[0m     \u001b[38;5;28mprint\u001b[39m(packet\u001b[38;5;241m.\u001b[39mshow())\n\u001b[1;32m----> 5\u001b[0m \u001b[43mchori\u001b[49m\u001b[43m(\u001b[49m\u001b[38;5;124;43m\"\u001b[39;49m\u001b[38;5;124;43mWi-Fi\u001b[39;49m\u001b[38;5;124;43m\"\u001b[39;49m\u001b[43m)\u001b[49m\n",
      "Input \u001b[1;32mIn [14]\u001b[0m, in \u001b[0;36mchori\u001b[1;34m(interface)\u001b[0m\n\u001b[0;32m      1\u001b[0m \u001b[38;5;28;01mdef\u001b[39;00m \u001b[38;5;21mchori\u001b[39m(interface): \n\u001b[1;32m----> 2\u001b[0m     \u001b[43mscapy\u001b[49m\u001b[38;5;241;43m.\u001b[39;49m\u001b[43msniff\u001b[49m\u001b[43m(\u001b[49m\u001b[43miface\u001b[49m\u001b[38;5;241;43m=\u001b[39;49m\u001b[43minterface\u001b[49m\u001b[43m,\u001b[49m\u001b[43mstore\u001b[49m\u001b[38;5;241;43m=\u001b[39;49m\u001b[38;5;28;43;01mFalse\u001b[39;49;00m\u001b[43m,\u001b[49m\u001b[43mprn\u001b[49m\u001b[38;5;241;43m=\u001b[39;49m\u001b[43mprocess_packet\u001b[49m\u001b[43m,\u001b[49m\u001b[38;5;28;43mfilter\u001b[39;49m\u001b[38;5;241;43m=\u001b[39;49m\u001b[38;5;124;43m\"\u001b[39;49m\u001b[38;5;124;43mtcp\u001b[39;49m\u001b[38;5;124;43m\"\u001b[39;49m\u001b[43m,\u001b[49m\u001b[43mcount\u001b[49m\u001b[38;5;241;43m=\u001b[39;49m\u001b[38;5;241;43m1\u001b[39;49m\u001b[43m)\u001b[49m\n",
      "File \u001b[1;32m~\\AppData\\Local\\Programs\\Python\\Python38\\lib\\site-packages\\scapy\\sendrecv.py:1263\u001b[0m, in \u001b[0;36msniff\u001b[1;34m(*args, **kwargs)\u001b[0m\n\u001b[0;32m   1259\u001b[0m \u001b[38;5;129m@conf\u001b[39m\u001b[38;5;241m.\u001b[39mcommands\u001b[38;5;241m.\u001b[39mregister\n\u001b[0;32m   1260\u001b[0m \u001b[38;5;28;01mdef\u001b[39;00m \u001b[38;5;21msniff\u001b[39m(\u001b[38;5;241m*\u001b[39margs, \u001b[38;5;241m*\u001b[39m\u001b[38;5;241m*\u001b[39mkwargs):\n\u001b[0;32m   1261\u001b[0m     \u001b[38;5;66;03m# type: (*Any, **Any) -> PacketList\u001b[39;00m\n\u001b[0;32m   1262\u001b[0m     sniffer \u001b[38;5;241m=\u001b[39m AsyncSniffer()\n\u001b[1;32m-> 1263\u001b[0m     \u001b[43msniffer\u001b[49m\u001b[38;5;241;43m.\u001b[39;49m\u001b[43m_run\u001b[49m\u001b[43m(\u001b[49m\u001b[38;5;241;43m*\u001b[39;49m\u001b[43margs\u001b[49m\u001b[43m,\u001b[49m\u001b[43m \u001b[49m\u001b[38;5;241;43m*\u001b[39;49m\u001b[38;5;241;43m*\u001b[39;49m\u001b[43mkwargs\u001b[49m\u001b[43m)\u001b[49m\n\u001b[0;32m   1264\u001b[0m     \u001b[38;5;28;01mreturn\u001b[39;00m cast(PacketList, sniffer\u001b[38;5;241m.\u001b[39mresults)\n",
      "File \u001b[1;32m~\\AppData\\Local\\Programs\\Python\\Python38\\lib\\site-packages\\scapy\\sendrecv.py:1127\u001b[0m, in \u001b[0;36mAsyncSniffer._run\u001b[1;34m(self, count, store, offline, quiet, prn, lfilter, L2socket, timeout, opened_socket, stop_filter, iface, started_callback, session, session_kwargs, **karg)\u001b[0m\n\u001b[0;32m   1121\u001b[0m         sniff_sockets\u001b[38;5;241m.\u001b[39mupdate(\n\u001b[0;32m   1122\u001b[0m             (L2socket(\u001b[38;5;28mtype\u001b[39m\u001b[38;5;241m=\u001b[39mETH_P_ALL, iface\u001b[38;5;241m=\u001b[39mifname, \u001b[38;5;241m*\u001b[39m\u001b[38;5;241m*\u001b[39mkarg),\n\u001b[0;32m   1123\u001b[0m              iflabel)\n\u001b[0;32m   1124\u001b[0m             \u001b[38;5;28;01mfor\u001b[39;00m ifname, iflabel \u001b[38;5;129;01min\u001b[39;00m six\u001b[38;5;241m.\u001b[39miteritems(iface)\n\u001b[0;32m   1125\u001b[0m         )\n\u001b[0;32m   1126\u001b[0m     \u001b[38;5;28;01melse\u001b[39;00m:\n\u001b[1;32m-> 1127\u001b[0m         sniff_sockets[\u001b[43mL2socket\u001b[49m\u001b[43m(\u001b[49m\u001b[38;5;28;43mtype\u001b[39;49m\u001b[38;5;241;43m=\u001b[39;49m\u001b[43mETH_P_ALL\u001b[49m\u001b[43m,\u001b[49m\u001b[43m \u001b[49m\u001b[43miface\u001b[49m\u001b[38;5;241;43m=\u001b[39;49m\u001b[43miface\u001b[49m\u001b[43m,\u001b[49m\n\u001b[0;32m   1128\u001b[0m \u001b[43m                               \u001b[49m\u001b[38;5;241;43m*\u001b[39;49m\u001b[38;5;241;43m*\u001b[39;49m\u001b[43mkarg\u001b[49m\u001b[43m)\u001b[49m] \u001b[38;5;241m=\u001b[39m iface\n\u001b[0;32m   1130\u001b[0m \u001b[38;5;66;03m# Get select information from the sockets\u001b[39;00m\n\u001b[0;32m   1131\u001b[0m _main_socket \u001b[38;5;241m=\u001b[39m \u001b[38;5;28mnext\u001b[39m(\u001b[38;5;28miter\u001b[39m(sniff_sockets))\n",
      "File \u001b[1;32m~\\AppData\\Local\\Programs\\Python\\Python38\\lib\\site-packages\\scapy\\arch\\libpcap.py:376\u001b[0m, in \u001b[0;36mL2pcapListenSocket.__init__\u001b[1;34m(self, iface, type, promisc, filter, monitor)\u001b[0m\n\u001b[0;32m    374\u001b[0m     promisc \u001b[38;5;241m=\u001b[39m conf\u001b[38;5;241m.\u001b[39msniff_promisc\n\u001b[0;32m    375\u001b[0m \u001b[38;5;28mself\u001b[39m\u001b[38;5;241m.\u001b[39mpromisc \u001b[38;5;241m=\u001b[39m promisc\n\u001b[1;32m--> 376\u001b[0m \u001b[38;5;28mself\u001b[39m\u001b[38;5;241m.\u001b[39mins \u001b[38;5;241m=\u001b[39m \u001b[43mopen_pcap\u001b[49m\u001b[43m(\u001b[49m\u001b[43miface\u001b[49m\u001b[43m,\u001b[49m\u001b[43m \u001b[49m\u001b[43mMTU\u001b[49m\u001b[43m,\u001b[49m\u001b[43m \u001b[49m\u001b[38;5;28;43mself\u001b[39;49m\u001b[38;5;241;43m.\u001b[39;49m\u001b[43mpromisc\u001b[49m\u001b[43m,\u001b[49m\u001b[43m \u001b[49m\u001b[38;5;241;43m100\u001b[39;49m\u001b[43m,\u001b[49m\n\u001b[0;32m    377\u001b[0m \u001b[43m                     \u001b[49m\u001b[43mmonitor\u001b[49m\u001b[38;5;241;43m=\u001b[39;49m\u001b[43mmonitor\u001b[49m\u001b[43m)\u001b[49m\n\u001b[0;32m    378\u001b[0m \u001b[38;5;28;01mtry\u001b[39;00m:\n\u001b[0;32m    379\u001b[0m     ioctl(\u001b[38;5;28mself\u001b[39m\u001b[38;5;241m.\u001b[39mins\u001b[38;5;241m.\u001b[39mfileno(), BIOCIMMEDIATE, struct\u001b[38;5;241m.\u001b[39mpack(\u001b[38;5;124m\"\u001b[39m\u001b[38;5;124mI\u001b[39m\u001b[38;5;124m\"\u001b[39m, \u001b[38;5;241m1\u001b[39m))\n",
      "File \u001b[1;32m~\\AppData\\Local\\Programs\\Python\\Python38\\lib\\site-packages\\scapy\\arch\\windows\\__init__.py:704\u001b[0m, in \u001b[0;36mopen_pcap\u001b[1;34m(iface, *args, **kargs)\u001b[0m\n\u001b[0;32m    700\u001b[0m     \u001b[38;5;28;01mif\u001b[39;00m kw_monitor \u001b[38;5;129;01mis\u001b[39;00m \u001b[38;5;129;01mnot\u001b[39;00m monitored:\n\u001b[0;32m    701\u001b[0m         \u001b[38;5;66;03m# The monitor param is specified, and not matching the current\u001b[39;00m\n\u001b[0;32m    702\u001b[0m         \u001b[38;5;66;03m# interface state\u001b[39;00m\n\u001b[0;32m    703\u001b[0m         iface\u001b[38;5;241m.\u001b[39msetmonitor(kw_monitor)\n\u001b[1;32m--> 704\u001b[0m \u001b[38;5;28;01mreturn\u001b[39;00m \u001b[43m_orig_open_pcap\u001b[49m\u001b[43m(\u001b[49m\u001b[43miface_network_name\u001b[49m\u001b[43m,\u001b[49m\u001b[43m \u001b[49m\u001b[38;5;241;43m*\u001b[39;49m\u001b[43margs\u001b[49m\u001b[43m,\u001b[49m\u001b[43m \u001b[49m\u001b[38;5;241;43m*\u001b[39;49m\u001b[38;5;241;43m*\u001b[39;49m\u001b[43mkargs\u001b[49m\u001b[43m)\u001b[49m\n",
      "File \u001b[1;32m~\\AppData\\Local\\Programs\\Python\\Python38\\lib\\site-packages\\scapy\\arch\\libpcap.py:254\u001b[0m, in \u001b[0;36m_PcapWrapper_libpcap.__init__\u001b[1;34m(self, device, snaplen, promisc, to_ms, monitor)\u001b[0m\n\u001b[0;32m    252\u001b[0m     error \u001b[38;5;241m=\u001b[39m \u001b[38;5;28mbytes\u001b[39m(\u001b[38;5;28mbytearray\u001b[39m(\u001b[38;5;28mself\u001b[39m\u001b[38;5;241m.\u001b[39merrbuf))\u001b[38;5;241m.\u001b[39mstrip(\u001b[38;5;124mb\u001b[39m\u001b[38;5;124m\"\u001b[39m\u001b[38;5;130;01m\\x00\u001b[39;00m\u001b[38;5;124m\"\u001b[39m)\n\u001b[0;32m    253\u001b[0m     \u001b[38;5;28;01mif\u001b[39;00m error:\n\u001b[1;32m--> 254\u001b[0m         \u001b[38;5;28;01mraise\u001b[39;00m \u001b[38;5;167;01mOSError\u001b[39;00m(error)\n\u001b[0;32m    256\u001b[0m \u001b[38;5;28;01mif\u001b[39;00m WINDOWS:\n\u001b[0;32m    257\u001b[0m     \u001b[38;5;66;03m# Winpcap/Npcap exclusive: make every packet to be instantly\u001b[39;00m\n\u001b[0;32m    258\u001b[0m     \u001b[38;5;66;03m# returned, and not buffered within Winpcap/Npcap\u001b[39;00m\n\u001b[0;32m    259\u001b[0m     pcap_setmintocopy(\u001b[38;5;28mself\u001b[39m\u001b[38;5;241m.\u001b[39mpcap, \u001b[38;5;241m0\u001b[39m)\n",
      "\u001b[1;31mOSError\u001b[0m: b'Error opening adapter: The filename, directory name, or volume label syntax is incorrect.  (123)'"
     ]
    }
   ],
   "source": [
    "def chori(interface): \n",
    "    scapy.sniff(iface=interface,store=False,prn=process_packet,filter=\"tcp\",count=1)\n",
    "def process_packet(packet):\n",
    "    print(packet.show())\n",
    "chori(\"Wi-Fi\")"
   ]
  },
  {
   "cell_type": "code",
   "execution_count": 15,
   "id": "5d120064",
   "metadata": {},
   "outputs": [
    {
     "name": "stdout",
     "output_type": "stream",
     "text": [
      "LAB 13 SHUBHANG GUPTA 2022-12-27 00:43:08.244538\n"
     ]
    }
   ],
   "source": [
    "from datetime import datetime\n",
    "current_time = datetime.now()\n",
    "print(\"LAB 13 SHUBHANG GUPTA\",str(current_time))"
   ]
  },
  {
   "cell_type": "code",
   "execution_count": 16,
   "id": "52089df1",
   "metadata": {},
   "outputs": [
    {
     "name": "stdout",
     "output_type": "stream",
     "text": [
      "0000 Ether / IP / TCP 192.168.29.185:50267 > 35.186.224.47:https PA / Raw\n",
      "None\n"
     ]
    }
   ],
   "source": [
    "pkt=scapy.sniff(count=1,filter=\"tcp\")\n",
    "print(pkt.show())"
   ]
  },
  {
   "cell_type": "code",
   "execution_count": null,
   "id": "278ac3af",
   "metadata": {},
   "outputs": [],
   "source": []
  }
 ],
 "metadata": {
  "kernelspec": {
   "display_name": "Python 3 (ipykernel)",
   "language": "python",
   "name": "python3"
  },
  "language_info": {
   "codemirror_mode": {
    "name": "ipython",
    "version": 3
   },
   "file_extension": ".py",
   "mimetype": "text/x-python",
   "name": "python",
   "nbconvert_exporter": "python",
   "pygments_lexer": "ipython3",
   "version": "3.8.10"
  },
  "vscode": {
   "interpreter": {
    "hash": "290a1579c21c8053f5d0adc532ed67c024ae0181cc5426fb574bfa95c9a853de"
   }
  }
 },
 "nbformat": 4,
 "nbformat_minor": 5
}

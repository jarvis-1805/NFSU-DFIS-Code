{
 "cells": [
  {
   "cell_type": "code",
   "execution_count": 2,
   "id": "5a1674b7",
   "metadata": {},
   "outputs": [
    {
     "name": "stdout",
     "output_type": "stream",
     "text": [
      "LAB 12 SHUBHANG GUPTA 2022-12-09 19:01:25.212847\n"
     ]
    }
   ],
   "source": [
    "import datetime\n",
    "current_time = datetime.datetime.now()\n",
    "print(\"LAB 12 SHUBHANG GUPTA\",str(current_time))"
   ]
  },
  {
   "cell_type": "code",
   "execution_count": 3,
   "id": "d772ca79",
   "metadata": {},
   "outputs": [],
   "source": [
    "import sqlite3"
   ]
  },
  {
   "cell_type": "code",
   "execution_count": 4,
   "id": "757d1939",
   "metadata": {},
   "outputs": [
    {
     "name": "stdout",
     "output_type": "stream",
     "text": [
      "Conected to the database\n"
     ]
    }
   ],
   "source": [
    "conn=sqlite3.connect('datab11.db')\n",
    "print(\"Conected to the database\")\n",
    "c=conn.cursor()"
   ]
  },
  {
   "cell_type": "code",
   "execution_count": 5,
   "id": "785e7ebf",
   "metadata": {},
   "outputs": [
    {
     "data": {
      "text/plain": [
       "<sqlite3.Cursor at 0x2723b2c2ea0>"
      ]
     },
     "execution_count": 5,
     "metadata": {},
     "output_type": "execute_result"
    }
   ],
   "source": [
    "c.execute(\"\"\"CREATE TABLE student (ID integer,\n",
    "Name text,\n",
    "Phone integer\n",
    ")\"\"\")"
   ]
  },
  {
   "cell_type": "code",
   "execution_count": 6,
   "id": "f1626f52",
   "metadata": {},
   "outputs": [
    {
     "name": "stdout",
     "output_type": "stream",
     "text": [
      "Total number of rows updated : 3\n"
     ]
    }
   ],
   "source": [
    "c.execute(\"INSERT INTO student VALUES (3,'kunit',5555574321)\")\n",
    "c.execute(\"INSERT INTO student VALUES (4,'junit',5555098755)\")\n",
    "c.execute(\"INSERT INTO student VALUES (5,'sunit',9999974321)\")\n",
    "print(\"Total number of rows updated :\",conn.total_changes)"
   ]
  },
  {
   "cell_type": "code",
   "execution_count": 7,
   "id": "7aadf7f2",
   "metadata": {},
   "outputs": [
    {
     "name": "stdout",
     "output_type": "stream",
     "text": [
      "[(3, 'kunit', 5555574321), (4, 'junit', 5555098755), (5, 'sunit', 9999974321)]\n"
     ]
    }
   ],
   "source": [
    "c.execute(\"SELECT * FROM student\")\n",
    "print(c.fetchall())"
   ]
  },
  {
   "cell_type": "code",
   "execution_count": 8,
   "id": "09c68a4e",
   "metadata": {},
   "outputs": [
    {
     "name": "stdout",
     "output_type": "stream",
     "text": [
      "(4, 'junit', 5555098755)\n"
     ]
    }
   ],
   "source": [
    "c.execute(\"SELECT *from student WHERE Name='junit'\")\n",
    "print(c.fetchone())"
   ]
  },
  {
   "cell_type": "code",
   "execution_count": 9,
   "id": "a4c9aaaa",
   "metadata": {},
   "outputs": [
    {
     "data": {
      "text/plain": [
       "<sqlite3.Cursor at 0x2723a2c2110>"
      ]
     },
     "execution_count": 9,
     "metadata": {},
     "output_type": "execute_result"
    }
   ],
   "source": [
    "conn.execute(\"UPDATE student SET Name = 'Saam' where ID=3\")"
   ]
  },
  {
   "cell_type": "code",
   "execution_count": 10,
   "id": "04fcaba3",
   "metadata": {},
   "outputs": [
    {
     "data": {
      "text/plain": [
       "<sqlite3.Cursor at 0x2723b2c2ea0>"
      ]
     },
     "execution_count": 10,
     "metadata": {},
     "output_type": "execute_result"
    }
   ],
   "source": [
    "c.execute(\"DELETE from student where Name='Saam'\")"
   ]
  },
  {
   "cell_type": "code",
   "execution_count": 11,
   "id": "1b356299",
   "metadata": {},
   "outputs": [
    {
     "name": "stdout",
     "output_type": "stream",
     "text": [
      "(4, 'junit', 5555098755)\n",
      "(5, 'sunit', 9999974321)\n"
     ]
    }
   ],
   "source": [
    "rows = c.execute(\"SELECT * FROM student\")\n",
    "for i in rows:\n",
    "    print(i)"
   ]
  },
  {
   "cell_type": "code",
   "execution_count": 12,
   "id": "2e37b212",
   "metadata": {},
   "outputs": [],
   "source": [
    "c.close()\n",
    "conn.close()"
   ]
  },
  {
   "cell_type": "code",
   "execution_count": 13,
   "id": "181f6c33",
   "metadata": {},
   "outputs": [
    {
     "name": "stdout",
     "output_type": "stream",
     "text": [
      "LAB 12 SHUBHANG GUPTA 2022-12-09 19:02:02.196842\n"
     ]
    }
   ],
   "source": [
    "import datetime\n",
    "current_time = datetime.datetime.now()\n",
    "print(\"LAB 12 SHUBHANG GUPTA\",str(current_time))"
   ]
  },
  {
   "cell_type": "code",
   "execution_count": 14,
   "id": "329db3fa",
   "metadata": {},
   "outputs": [
    {
     "name": "stdout",
     "output_type": "stream",
     "text": [
      "Conected to the database\n"
     ]
    }
   ],
   "source": [
    "conn=sqlite3.connect('datab1.db')\n",
    "print(\"Conected to the database\")\n",
    "c=conn.cursor()"
   ]
  },
  {
   "cell_type": "code",
   "execution_count": 15,
   "id": "61ee0f95",
   "metadata": {},
   "outputs": [
    {
     "data": {
      "text/plain": [
       "<sqlite3.Cursor at 0x2723a2c2960>"
      ]
     },
     "execution_count": 15,
     "metadata": {},
     "output_type": "execute_result"
    }
   ],
   "source": [
    "c.execute(\"CREATE TABLE person (name, age, id)\")"
   ]
  },
  {
   "cell_type": "code",
   "execution_count": 16,
   "id": "23876b0b",
   "metadata": {},
   "outputs": [
    {
     "name": "stdout",
     "output_type": "stream",
     "text": [
      "Enter 3 students names:\n",
      "Ram\n",
      "Shyam\n",
      "Radhe\n",
      "Enter 3 students age:\n",
      "20\n",
      "25\n",
      "54\n",
      "Enter 3 students ids:\n",
      "1\n",
      "2\n",
      "3\n"
     ]
    }
   ],
   "source": [
    "n=3\n",
    "print (\"Enter 3 students names:\")\n",
    "name = [input() for i in range(n)]\n",
    "print (\"Enter 3 students age:\")\n",
    "age = [int(input()) for i in range(n)]\n",
    "print (\"Enter 3 students ids:\")\n",
    "id = [int(input()) for i in range(n)]\n",
    "m = len(name)\n",
    "for i in range(m):\n",
    "       c.execute(\"insert into person values(?,?,?)\", (name[i], age[i], id[i]))\n"
   ]
  },
  {
   "cell_type": "code",
   "execution_count": 17,
   "id": "ea325a16",
   "metadata": {},
   "outputs": [
    {
     "name": "stdout",
     "output_type": "stream",
     "text": [
      "[('Ram', 20, 1), ('Shyam', 25, 2), ('Radhe', 54, 3)]\n"
     ]
    }
   ],
   "source": [
    "c.execute(\"SELECT * FROM person\")\n",
    "print(c.fetchall())"
   ]
  },
  {
   "cell_type": "code",
   "execution_count": 18,
   "id": "3d49baf5",
   "metadata": {},
   "outputs": [],
   "source": [
    "c.close()\n",
    "conn.close()"
   ]
  },
  {
   "cell_type": "code",
   "execution_count": 1,
   "id": "f0eb56c2",
   "metadata": {},
   "outputs": [
    {
     "name": "stdout",
     "output_type": "stream",
     "text": [
      "LAB 12 SHUBHANG GUPTA 2022-12-11 14:21:45.522528\n"
     ]
    }
   ],
   "source": [
    "import datetime\n",
    "current_time = datetime.datetime.now()\n",
    "print(\"LAB 12 SHUBHANG GUPTA\",str(current_time))"
   ]
  },
  {
   "cell_type": "code",
   "execution_count": 19,
   "id": "a07014c7",
   "metadata": {},
   "outputs": [],
   "source": [
    "import pandas as pd\n",
    "import sqlite3\n",
    "df= pd.DataFrame({'name':['juan', 'victoria','mary'],\n",
    "                 'age': [23,24,25],\n",
    "                 'city': ['miami', 'buenos aires','santiago']})"
   ]
  },
  {
   "cell_type": "code",
   "execution_count": 20,
   "id": "c24207f8",
   "metadata": {},
   "outputs": [
    {
     "data": {
      "text/plain": [
       "3"
      ]
     },
     "execution_count": 20,
     "metadata": {},
     "output_type": "execute_result"
    }
   ],
   "source": [
    "con = sqlite3.connect('DFIS_sql.db')\n",
    "df.to_sql('friends', con)"
   ]
  },
  {
   "cell_type": "code",
   "execution_count": 21,
   "id": "21a34b35",
   "metadata": {},
   "outputs": [],
   "source": [
    "c=con.cursor()"
   ]
  },
  {
   "cell_type": "code",
   "execution_count": 22,
   "id": "3e17b53a",
   "metadata": {},
   "outputs": [
    {
     "name": "stdout",
     "output_type": "stream",
     "text": [
      "[(0, 'juan', 23, 'miami'), (1, 'victoria', 24, 'buenos aires'), (2, 'mary', 25, 'santiago')]\n"
     ]
    }
   ],
   "source": [
    "c.execute('SELECT * FROM friends')\n",
    "print(c.fetchall())"
   ]
  },
  {
   "cell_type": "code",
   "execution_count": 23,
   "id": "c7b8fadf",
   "metadata": {},
   "outputs": [],
   "source": [
    "c.close()\n",
    "con.close()"
   ]
  },
  {
   "cell_type": "code",
   "execution_count": null,
   "id": "20d24ebb",
   "metadata": {},
   "outputs": [],
   "source": []
  }
 ],
 "metadata": {
  "kernelspec": {
   "display_name": "Python 3",
   "language": "python",
   "name": "python3"
  },
  "language_info": {
   "codemirror_mode": {
    "name": "ipython",
    "version": 3
   },
   "file_extension": ".py",
   "mimetype": "text/x-python",
   "name": "python",
   "nbconvert_exporter": "python",
   "pygments_lexer": "ipython3",
   "version": "3.8.10 (tags/v3.8.10:3d8993a, May  3 2021, 11:48:03) [MSC v.1928 64 bit (AMD64)]"
  },
  "vscode": {
   "interpreter": {
    "hash": "290a1579c21c8053f5d0adc532ed67c024ae0181cc5426fb574bfa95c9a853de"
   }
  }
 },
 "nbformat": 4,
 "nbformat_minor": 5
}
